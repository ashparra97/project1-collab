{
 "metadata": {
  "language_info": {
   "codemirror_mode": {
    "name": "ipython",
    "version": 3
   },
   "file_extension": ".py",
   "mimetype": "text/x-python",
   "name": "python",
   "nbconvert_exporter": "python",
   "pygments_lexer": "ipython3",
   "version": "3.7.9-final"
  },
  "orig_nbformat": 2,
  "kernelspec": {
   "name": "python3",
   "display_name": "Python 3.7.9 64-bit ('PythonData': conda)",
   "metadata": {
    "interpreter": {
     "hash": "09b9fd081e3d0d3e582ec8770b3e1541d577f0aa57c748b8ddd47553873ffc88"
    }
   }
  }
 },
 "nbformat": 4,
 "nbformat_minor": 2,
 "cells": [
  {
   "cell_type": "code",
   "execution_count": 139,
   "metadata": {},
   "outputs": [],
   "source": [
    "# Import Depedencies \n",
    "import pandas as pd "
   ]
  },
  {
   "cell_type": "code",
   "execution_count": 140,
   "metadata": {},
   "outputs": [
    {
     "output_type": "execute_result",
     "data": {
      "text/plain": [
       "     Unnamed: 0  POSTCODE  Total Population Total Case Count  \\\n",
       "0             0     85003              8499             1534   \n",
       "1             1     85004              7164              969   \n",
       "2             2     85006             27206             3272   \n",
       "3             3     85007             14428             2424   \n",
       "4             4     85008             62340             9079   \n",
       "..          ...       ...               ...              ...   \n",
       "339         360     86444              1254               60   \n",
       "340         361     86445               254               12   \n",
       "341         362     86502              1095              497   \n",
       "342         364     86505              8036              137   \n",
       "343         366     86511              3680             1-10   \n",
       "\n",
       "     % Cases Over Age 18  % Cases Over Age 65 Total Cases Category  \\\n",
       "0                  46.20                74.49    Greater Than 1000   \n",
       "1                  63.68                61.45             501-1000   \n",
       "2                  35.85                54.55    Greater Than 1000   \n",
       "3                  41.44                63.91    Greater Than 1000   \n",
       "4                  33.01                56.27    Greater Than 1000   \n",
       "..                   ...                  ...                  ...   \n",
       "339                34.27                49.25               11-100   \n",
       "340                12.73                20.45               11-100   \n",
       "341                34.12                47.10              101-500   \n",
       "342                12.40                36.62              101-500   \n",
       "343                 0.19                 0.00                 1-10   \n",
       "\n",
       "    Total Vaccinated Total      Vaccinated Category Median Household Income  \n",
       "0               4898                    1,001-5,000                   44140  \n",
       "1               4281                    1,001-5,000                   41951  \n",
       "2               6780                   5,001-10,000                   38121  \n",
       "3               4719                    1,001-5,000                   34667  \n",
       "4              14187            Greater Than 10,000                   43574  \n",
       "..               ...                            ...                     ...  \n",
       "339              450                       11-1,000                   46389  \n",
       "340               42                       11-1,000                   51150  \n",
       "341              265                       11-1,000                   18542  \n",
       "342               54                       11-1,000                   23767  \n",
       "343             1-10                           1-10                   29617  \n",
       "\n",
       "[344 rows x 10 columns]"
      ],
      "text/html": "<div>\n<style scoped>\n    .dataframe tbody tr th:only-of-type {\n        vertical-align: middle;\n    }\n\n    .dataframe tbody tr th {\n        vertical-align: top;\n    }\n\n    .dataframe thead th {\n        text-align: right;\n    }\n</style>\n<table border=\"1\" class=\"dataframe\">\n  <thead>\n    <tr style=\"text-align: right;\">\n      <th></th>\n      <th>Unnamed: 0</th>\n      <th>POSTCODE</th>\n      <th>Total Population</th>\n      <th>Total Case Count</th>\n      <th>% Cases Over Age 18</th>\n      <th>% Cases Over Age 65</th>\n      <th>Total Cases Category</th>\n      <th>Total Vaccinated</th>\n      <th>Total      Vaccinated Category</th>\n      <th>Median Household Income</th>\n    </tr>\n  </thead>\n  <tbody>\n    <tr>\n      <th>0</th>\n      <td>0</td>\n      <td>85003</td>\n      <td>8499</td>\n      <td>1534</td>\n      <td>46.20</td>\n      <td>74.49</td>\n      <td>Greater Than 1000</td>\n      <td>4898</td>\n      <td>1,001-5,000</td>\n      <td>44140</td>\n    </tr>\n    <tr>\n      <th>1</th>\n      <td>1</td>\n      <td>85004</td>\n      <td>7164</td>\n      <td>969</td>\n      <td>63.68</td>\n      <td>61.45</td>\n      <td>501-1000</td>\n      <td>4281</td>\n      <td>1,001-5,000</td>\n      <td>41951</td>\n    </tr>\n    <tr>\n      <th>2</th>\n      <td>2</td>\n      <td>85006</td>\n      <td>27206</td>\n      <td>3272</td>\n      <td>35.85</td>\n      <td>54.55</td>\n      <td>Greater Than 1000</td>\n      <td>6780</td>\n      <td>5,001-10,000</td>\n      <td>38121</td>\n    </tr>\n    <tr>\n      <th>3</th>\n      <td>3</td>\n      <td>85007</td>\n      <td>14428</td>\n      <td>2424</td>\n      <td>41.44</td>\n      <td>63.91</td>\n      <td>Greater Than 1000</td>\n      <td>4719</td>\n      <td>1,001-5,000</td>\n      <td>34667</td>\n    </tr>\n    <tr>\n      <th>4</th>\n      <td>4</td>\n      <td>85008</td>\n      <td>62340</td>\n      <td>9079</td>\n      <td>33.01</td>\n      <td>56.27</td>\n      <td>Greater Than 1000</td>\n      <td>14187</td>\n      <td>Greater Than 10,000</td>\n      <td>43574</td>\n    </tr>\n    <tr>\n      <th>...</th>\n      <td>...</td>\n      <td>...</td>\n      <td>...</td>\n      <td>...</td>\n      <td>...</td>\n      <td>...</td>\n      <td>...</td>\n      <td>...</td>\n      <td>...</td>\n      <td>...</td>\n    </tr>\n    <tr>\n      <th>339</th>\n      <td>360</td>\n      <td>86444</td>\n      <td>1254</td>\n      <td>60</td>\n      <td>34.27</td>\n      <td>49.25</td>\n      <td>11-100</td>\n      <td>450</td>\n      <td>11-1,000</td>\n      <td>46389</td>\n    </tr>\n    <tr>\n      <th>340</th>\n      <td>361</td>\n      <td>86445</td>\n      <td>254</td>\n      <td>12</td>\n      <td>12.73</td>\n      <td>20.45</td>\n      <td>11-100</td>\n      <td>42</td>\n      <td>11-1,000</td>\n      <td>51150</td>\n    </tr>\n    <tr>\n      <th>341</th>\n      <td>362</td>\n      <td>86502</td>\n      <td>1095</td>\n      <td>497</td>\n      <td>34.12</td>\n      <td>47.10</td>\n      <td>101-500</td>\n      <td>265</td>\n      <td>11-1,000</td>\n      <td>18542</td>\n    </tr>\n    <tr>\n      <th>342</th>\n      <td>364</td>\n      <td>86505</td>\n      <td>8036</td>\n      <td>137</td>\n      <td>12.40</td>\n      <td>36.62</td>\n      <td>101-500</td>\n      <td>54</td>\n      <td>11-1,000</td>\n      <td>23767</td>\n    </tr>\n    <tr>\n      <th>343</th>\n      <td>366</td>\n      <td>86511</td>\n      <td>3680</td>\n      <td>1-10</td>\n      <td>0.19</td>\n      <td>0.00</td>\n      <td>1-10</td>\n      <td>1-10</td>\n      <td>1-10</td>\n      <td>29617</td>\n    </tr>\n  </tbody>\n</table>\n<p>344 rows × 10 columns</p>\n</div>"
     },
     "metadata": {},
     "execution_count": 140
    }
   ],
   "source": [
    "# Import cleaned csv\n",
    "csvfile1 = \"Resources/Cleaned_Vaccine_Case_Data.csv\"\n",
    "\n",
    "# Add as DataFrame\n",
    "main_df = pd.read_csv(csvfile1)\n",
    "main_df"
   ]
  },
  {
   "cell_type": "code",
   "execution_count": 141,
   "metadata": {},
   "outputs": [
    {
     "output_type": "execute_result",
     "data": {
      "text/plain": [
       "numpy.int64"
      ]
     },
     "metadata": {},
     "execution_count": 141
    }
   ],
   "source": [
    "main_clean_salary_df = main_df.loc[main_df['Median Household Income'] != '-']\n",
    "#main_clean_salary_df['POSTCODE'] = main_clean_salary_df['POSTCODE'].astype(str)\n",
    "type(main_clean_salary_df['POSTCODE'][1])\n",
    "#main_clean_salary_df"
   ]
  },
  {
   "cell_type": "code",
   "execution_count": 152,
   "metadata": {},
   "outputs": [
    {
     "output_type": "execute_result",
     "data": {
      "text/plain": [
       "     POSTCODE  Distribution Location  Unnamed: 0  Total Population  \\\n",
       "0       85004                      3           1              7164   \n",
       "1       85006                      5           2             27206   \n",
       "2       85007                      1           3             14428   \n",
       "3       85008                      4           4             62340   \n",
       "4       85009                      1           5             51711   \n",
       "..        ...                    ...         ...               ...   \n",
       "192     86413                      1         346             13173   \n",
       "193     86426                      3         347             14928   \n",
       "194     86440                      1         356              7028   \n",
       "195     86442                      9         358             33895   \n",
       "196     86511                      1         366              3680   \n",
       "\n",
       "    Total Case Count  % Cases Over Age 18  % Cases Over Age 65  \\\n",
       "0                969                63.68                61.45   \n",
       "1               3272                35.85                54.55   \n",
       "2               2424                41.44                63.91   \n",
       "3               9079                33.01                56.27   \n",
       "4               8606                23.48                61.29   \n",
       "..               ...                  ...                  ...   \n",
       "192             1285                22.87                36.47   \n",
       "193             1746                30.12                51.01   \n",
       "194             1016                29.04                48.25   \n",
       "195             4071                27.17                48.51   \n",
       "196             1-10                 0.19                 0.00   \n",
       "\n",
       "    Total Cases Category Total Vaccinated Total      Vaccinated Category  \\\n",
       "0               501-1000             4281                    1,001-5,000   \n",
       "1      Greater Than 1000             6780                   5,001-10,000   \n",
       "2      Greater Than 1000             4719                    1,001-5,000   \n",
       "3      Greater Than 1000            14187            Greater Than 10,000   \n",
       "4      Greater Than 1000             9266                   5,001-10,000   \n",
       "..                   ...              ...                            ...   \n",
       "192    Greater Than 1000             3251                    1,001-5,000   \n",
       "193    Greater Than 1000             3882                    1,001-5,000   \n",
       "194    Greater Than 1000             1494                    1,001-5,000   \n",
       "195    Greater Than 1000             7922                   5,001-10,000   \n",
       "196                 1-10             1-10                           1-10   \n",
       "\n",
       "    Median Household Income  \n",
       "0                     41951  \n",
       "1                     38121  \n",
       "2                     34667  \n",
       "3                     43574  \n",
       "4                     32893  \n",
       "..                      ...  \n",
       "192                   38292  \n",
       "193                   50535  \n",
       "194                   47437  \n",
       "195                   39600  \n",
       "196                   29617  \n",
       "\n",
       "[197 rows x 11 columns]"
      ],
      "text/html": "<div>\n<style scoped>\n    .dataframe tbody tr th:only-of-type {\n        vertical-align: middle;\n    }\n\n    .dataframe tbody tr th {\n        vertical-align: top;\n    }\n\n    .dataframe thead th {\n        text-align: right;\n    }\n</style>\n<table border=\"1\" class=\"dataframe\">\n  <thead>\n    <tr style=\"text-align: right;\">\n      <th></th>\n      <th>POSTCODE</th>\n      <th>Distribution Location</th>\n      <th>Unnamed: 0</th>\n      <th>Total Population</th>\n      <th>Total Case Count</th>\n      <th>% Cases Over Age 18</th>\n      <th>% Cases Over Age 65</th>\n      <th>Total Cases Category</th>\n      <th>Total Vaccinated</th>\n      <th>Total      Vaccinated Category</th>\n      <th>Median Household Income</th>\n    </tr>\n  </thead>\n  <tbody>\n    <tr>\n      <th>0</th>\n      <td>85004</td>\n      <td>3</td>\n      <td>1</td>\n      <td>7164</td>\n      <td>969</td>\n      <td>63.68</td>\n      <td>61.45</td>\n      <td>501-1000</td>\n      <td>4281</td>\n      <td>1,001-5,000</td>\n      <td>41951</td>\n    </tr>\n    <tr>\n      <th>1</th>\n      <td>85006</td>\n      <td>5</td>\n      <td>2</td>\n      <td>27206</td>\n      <td>3272</td>\n      <td>35.85</td>\n      <td>54.55</td>\n      <td>Greater Than 1000</td>\n      <td>6780</td>\n      <td>5,001-10,000</td>\n      <td>38121</td>\n    </tr>\n    <tr>\n      <th>2</th>\n      <td>85007</td>\n      <td>1</td>\n      <td>3</td>\n      <td>14428</td>\n      <td>2424</td>\n      <td>41.44</td>\n      <td>63.91</td>\n      <td>Greater Than 1000</td>\n      <td>4719</td>\n      <td>1,001-5,000</td>\n      <td>34667</td>\n    </tr>\n    <tr>\n      <th>3</th>\n      <td>85008</td>\n      <td>4</td>\n      <td>4</td>\n      <td>62340</td>\n      <td>9079</td>\n      <td>33.01</td>\n      <td>56.27</td>\n      <td>Greater Than 1000</td>\n      <td>14187</td>\n      <td>Greater Than 10,000</td>\n      <td>43574</td>\n    </tr>\n    <tr>\n      <th>4</th>\n      <td>85009</td>\n      <td>1</td>\n      <td>5</td>\n      <td>51711</td>\n      <td>8606</td>\n      <td>23.48</td>\n      <td>61.29</td>\n      <td>Greater Than 1000</td>\n      <td>9266</td>\n      <td>5,001-10,000</td>\n      <td>32893</td>\n    </tr>\n    <tr>\n      <th>...</th>\n      <td>...</td>\n      <td>...</td>\n      <td>...</td>\n      <td>...</td>\n      <td>...</td>\n      <td>...</td>\n      <td>...</td>\n      <td>...</td>\n      <td>...</td>\n      <td>...</td>\n      <td>...</td>\n    </tr>\n    <tr>\n      <th>192</th>\n      <td>86413</td>\n      <td>1</td>\n      <td>346</td>\n      <td>13173</td>\n      <td>1285</td>\n      <td>22.87</td>\n      <td>36.47</td>\n      <td>Greater Than 1000</td>\n      <td>3251</td>\n      <td>1,001-5,000</td>\n      <td>38292</td>\n    </tr>\n    <tr>\n      <th>193</th>\n      <td>86426</td>\n      <td>3</td>\n      <td>347</td>\n      <td>14928</td>\n      <td>1746</td>\n      <td>30.12</td>\n      <td>51.01</td>\n      <td>Greater Than 1000</td>\n      <td>3882</td>\n      <td>1,001-5,000</td>\n      <td>50535</td>\n    </tr>\n    <tr>\n      <th>194</th>\n      <td>86440</td>\n      <td>1</td>\n      <td>356</td>\n      <td>7028</td>\n      <td>1016</td>\n      <td>29.04</td>\n      <td>48.25</td>\n      <td>Greater Than 1000</td>\n      <td>1494</td>\n      <td>1,001-5,000</td>\n      <td>47437</td>\n    </tr>\n    <tr>\n      <th>195</th>\n      <td>86442</td>\n      <td>9</td>\n      <td>358</td>\n      <td>33895</td>\n      <td>4071</td>\n      <td>27.17</td>\n      <td>48.51</td>\n      <td>Greater Than 1000</td>\n      <td>7922</td>\n      <td>5,001-10,000</td>\n      <td>39600</td>\n    </tr>\n    <tr>\n      <th>196</th>\n      <td>86511</td>\n      <td>1</td>\n      <td>366</td>\n      <td>3680</td>\n      <td>1-10</td>\n      <td>0.19</td>\n      <td>0.00</td>\n      <td>1-10</td>\n      <td>1-10</td>\n      <td>1-10</td>\n      <td>29617</td>\n    </tr>\n  </tbody>\n</table>\n<p>197 rows × 11 columns</p>\n</div>"
     },
     "metadata": {},
     "execution_count": 152
    }
   ],
   "source": [
    "csvfile2 = \"Resources/Vaccine_Distribution.csv\"\n",
    "distribution_df = pd.read_csv(csvfile2)\n",
    "distribution_df = distribution_df.dropna()\n",
    "distribution_df['Vaccine Distribution Zipcodes'] = distribution_df['Vaccine Distribution Zipcodes'].astype(int)\n",
    "#type(distribution_df['Vaccine Distribution Zipcodes'][1])\n",
    "distribution_df = distribution_df[['Distribution Location','Vaccine Distribution Zipcodes']].groupby('Vaccine Distribution Zipcodes').count().reset_index()\n",
    "\n",
    "distribution_df = distribution_df.rename(columns={'Vaccine Distribution Zipcodes': 'POSTCODE'})\n",
    "distribution_df\n",
    "\n",
    "distribution_vs_salary_df = pd.merge(distribution_df, main_clean_salary_df, on='POSTCODE', how='inner')\n",
    "distribution_vs_salary_df\n",
    "\n"
   ]
  },
  {
   "cell_type": "code",
   "execution_count": null,
   "metadata": {},
   "outputs": [],
   "source": []
  }
 ]
}