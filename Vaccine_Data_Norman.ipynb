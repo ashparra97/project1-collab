{
 "metadata": {
  "language_info": {
   "codemirror_mode": {
    "name": "ipython",
    "version": 3
   },
   "file_extension": ".py",
   "mimetype": "text/x-python",
   "name": "python",
   "nbconvert_exporter": "python",
   "pygments_lexer": "ipython3",
   "version": "3.7.9"
  },
  "orig_nbformat": 2,
  "kernelspec": {
   "name": "python3",
   "display_name": "Python 3.7.9 64-bit ('PythonData': conda)",
   "metadata": {
    "interpreter": {
     "hash": "09b9fd081e3d0d3e582ec8770b3e1541d577f0aa57c748b8ddd47553873ffc88"
    }
   }
  }
 },
 "nbformat": 4,
 "nbformat_minor": 2,
 "cells": [
  {
   "cell_type": "code",
   "execution_count": 1,
   "metadata": {},
   "outputs": [],
   "source": [
    "# Import Depedencies \n",
    "import pandas as pd "
   ]
  },
  {
   "cell_type": "code",
   "execution_count": 2,
   "metadata": {},
   "outputs": [
    {
     "output_type": "execute_result",
     "data": {
      "text/plain": [
       "     Unnamed: 0  POSTCODE  Total Population Total Case Count  \\\n",
       "0             0     85003              8499             1534   \n",
       "1             1     85004              7164              969   \n",
       "2             2     85006             27206             3272   \n",
       "3             3     85007             14428             2424   \n",
       "4             4     85008             62340             9079   \n",
       "..          ...       ...               ...              ...   \n",
       "339         360     86444              1254               60   \n",
       "340         361     86445               254               12   \n",
       "341         362     86502              1095              497   \n",
       "342         364     86505              8036              137   \n",
       "343         366     86511              3680             1-10   \n",
       "\n",
       "     % Cases Over Age 18  % Cases Over Age 65 Total Cases Category  \\\n",
       "0                  46.20                74.49    Greater Than 1000   \n",
       "1                  63.68                61.45             501-1000   \n",
       "2                  35.85                54.55    Greater Than 1000   \n",
       "3                  41.44                63.91    Greater Than 1000   \n",
       "4                  33.01                56.27    Greater Than 1000   \n",
       "..                   ...                  ...                  ...   \n",
       "339                34.27                49.25               11-100   \n",
       "340                12.73                20.45               11-100   \n",
       "341                34.12                47.10              101-500   \n",
       "342                12.40                36.62              101-500   \n",
       "343                 0.19                 0.00                 1-10   \n",
       "\n",
       "    Total Vaccinated Total      Vaccinated Category Median Household Income  \n",
       "0               4898                    1,001-5,000                   44140  \n",
       "1               4281                    1,001-5,000                   41951  \n",
       "2               6780                   5,001-10,000                   38121  \n",
       "3               4719                    1,001-5,000                   34667  \n",
       "4              14187            Greater Than 10,000                   43574  \n",
       "..               ...                            ...                     ...  \n",
       "339              450                       11-1,000                   46389  \n",
       "340               42                       11-1,000                   51150  \n",
       "341              265                       11-1,000                   18542  \n",
       "342               54                       11-1,000                   23767  \n",
       "343             1-10                           1-10                   29617  \n",
       "\n",
       "[344 rows x 10 columns]"
      ],
      "text/html": "<div>\n<style scoped>\n    .dataframe tbody tr th:only-of-type {\n        vertical-align: middle;\n    }\n\n    .dataframe tbody tr th {\n        vertical-align: top;\n    }\n\n    .dataframe thead th {\n        text-align: right;\n    }\n</style>\n<table border=\"1\" class=\"dataframe\">\n  <thead>\n    <tr style=\"text-align: right;\">\n      <th></th>\n      <th>Unnamed: 0</th>\n      <th>POSTCODE</th>\n      <th>Total Population</th>\n      <th>Total Case Count</th>\n      <th>% Cases Over Age 18</th>\n      <th>% Cases Over Age 65</th>\n      <th>Total Cases Category</th>\n      <th>Total Vaccinated</th>\n      <th>Total      Vaccinated Category</th>\n      <th>Median Household Income</th>\n    </tr>\n  </thead>\n  <tbody>\n    <tr>\n      <th>0</th>\n      <td>0</td>\n      <td>85003</td>\n      <td>8499</td>\n      <td>1534</td>\n      <td>46.20</td>\n      <td>74.49</td>\n      <td>Greater Than 1000</td>\n      <td>4898</td>\n      <td>1,001-5,000</td>\n      <td>44140</td>\n    </tr>\n    <tr>\n      <th>1</th>\n      <td>1</td>\n      <td>85004</td>\n      <td>7164</td>\n      <td>969</td>\n      <td>63.68</td>\n      <td>61.45</td>\n      <td>501-1000</td>\n      <td>4281</td>\n      <td>1,001-5,000</td>\n      <td>41951</td>\n    </tr>\n    <tr>\n      <th>2</th>\n      <td>2</td>\n      <td>85006</td>\n      <td>27206</td>\n      <td>3272</td>\n      <td>35.85</td>\n      <td>54.55</td>\n      <td>Greater Than 1000</td>\n      <td>6780</td>\n      <td>5,001-10,000</td>\n      <td>38121</td>\n    </tr>\n    <tr>\n      <th>3</th>\n      <td>3</td>\n      <td>85007</td>\n      <td>14428</td>\n      <td>2424</td>\n      <td>41.44</td>\n      <td>63.91</td>\n      <td>Greater Than 1000</td>\n      <td>4719</td>\n      <td>1,001-5,000</td>\n      <td>34667</td>\n    </tr>\n    <tr>\n      <th>4</th>\n      <td>4</td>\n      <td>85008</td>\n      <td>62340</td>\n      <td>9079</td>\n      <td>33.01</td>\n      <td>56.27</td>\n      <td>Greater Than 1000</td>\n      <td>14187</td>\n      <td>Greater Than 10,000</td>\n      <td>43574</td>\n    </tr>\n    <tr>\n      <th>...</th>\n      <td>...</td>\n      <td>...</td>\n      <td>...</td>\n      <td>...</td>\n      <td>...</td>\n      <td>...</td>\n      <td>...</td>\n      <td>...</td>\n      <td>...</td>\n      <td>...</td>\n    </tr>\n    <tr>\n      <th>339</th>\n      <td>360</td>\n      <td>86444</td>\n      <td>1254</td>\n      <td>60</td>\n      <td>34.27</td>\n      <td>49.25</td>\n      <td>11-100</td>\n      <td>450</td>\n      <td>11-1,000</td>\n      <td>46389</td>\n    </tr>\n    <tr>\n      <th>340</th>\n      <td>361</td>\n      <td>86445</td>\n      <td>254</td>\n      <td>12</td>\n      <td>12.73</td>\n      <td>20.45</td>\n      <td>11-100</td>\n      <td>42</td>\n      <td>11-1,000</td>\n      <td>51150</td>\n    </tr>\n    <tr>\n      <th>341</th>\n      <td>362</td>\n      <td>86502</td>\n      <td>1095</td>\n      <td>497</td>\n      <td>34.12</td>\n      <td>47.10</td>\n      <td>101-500</td>\n      <td>265</td>\n      <td>11-1,000</td>\n      <td>18542</td>\n    </tr>\n    <tr>\n      <th>342</th>\n      <td>364</td>\n      <td>86505</td>\n      <td>8036</td>\n      <td>137</td>\n      <td>12.40</td>\n      <td>36.62</td>\n      <td>101-500</td>\n      <td>54</td>\n      <td>11-1,000</td>\n      <td>23767</td>\n    </tr>\n    <tr>\n      <th>343</th>\n      <td>366</td>\n      <td>86511</td>\n      <td>3680</td>\n      <td>1-10</td>\n      <td>0.19</td>\n      <td>0.00</td>\n      <td>1-10</td>\n      <td>1-10</td>\n      <td>1-10</td>\n      <td>29617</td>\n    </tr>\n  </tbody>\n</table>\n<p>344 rows × 10 columns</p>\n</div>"
     },
     "metadata": {},
     "execution_count": 2
    }
   ],
   "source": [
    "# Import cleaned csv\n",
    "csvfile1 = \"Resources/Cleaned_Vaccine_Case_Data.csv\"\n",
    "\n",
    "# Add as DataFrame\n",
    "main_df = pd.read_csv(csvfile1)\n",
    "main_df"
   ]
  },
  {
   "cell_type": "code",
   "execution_count": null,
   "metadata": {},
   "outputs": [],
   "source": []
  }
 ]
}