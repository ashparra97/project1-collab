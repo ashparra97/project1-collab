{
 "metadata": {
  "language_info": {
   "codemirror_mode": {
    "name": "ipython",
    "version": 3
   },
   "file_extension": ".py",
   "mimetype": "text/x-python",
   "name": "python",
   "nbconvert_exporter": "python",
   "pygments_lexer": "ipython3",
   "version": "3.8.5"
  },
  "orig_nbformat": 2,
  "kernelspec": {
   "name": "python385jvsc74a57bd0dca0ade3e726a953b501b15e8e990130d2b7799f14cfd9f4271676035ebe5511",
   "display_name": "Python 3.8.5 64-bit ('base': conda)"
  }
 },
 "nbformat": 4,
 "nbformat_minor": 2,
 "cells": [
  {
   "cell_type": "code",
   "execution_count": 3,
   "metadata": {},
   "outputs": [],
   "source": [
    "# Import Depedencies \n",
    "import pandas as pd "
   ]
  },
  {
   "cell_type": "code",
   "execution_count": 4,
   "metadata": {},
   "outputs": [
    {
     "output_type": "execute_result",
     "data": {
      "text/plain": [
       "     City   Zipcode\n",
       "0  Phoenix    85001\n",
       "1  Phoenix    85002\n",
       "2  Phoenix    85003\n",
       "3  Phoenix    85004\n",
       "4  Phoenix    85005"
      ],
      "text/html": "<div>\n<style scoped>\n    .dataframe tbody tr th:only-of-type {\n        vertical-align: middle;\n    }\n\n    .dataframe tbody tr th {\n        vertical-align: top;\n    }\n\n    .dataframe thead th {\n        text-align: right;\n    }\n</style>\n<table border=\"1\" class=\"dataframe\">\n  <thead>\n    <tr style=\"text-align: right;\">\n      <th></th>\n      <th>City</th>\n      <th>Zipcode</th>\n    </tr>\n  </thead>\n  <tbody>\n    <tr>\n      <th>0</th>\n      <td>Phoenix</td>\n      <td>85001</td>\n    </tr>\n    <tr>\n      <th>1</th>\n      <td>Phoenix</td>\n      <td>85002</td>\n    </tr>\n    <tr>\n      <th>2</th>\n      <td>Phoenix</td>\n      <td>85003</td>\n    </tr>\n    <tr>\n      <th>3</th>\n      <td>Phoenix</td>\n      <td>85004</td>\n    </tr>\n    <tr>\n      <th>4</th>\n      <td>Phoenix</td>\n      <td>85005</td>\n    </tr>\n  </tbody>\n</table>\n</div>"
     },
     "metadata": {},
     "execution_count": 4
    }
   ],
   "source": [
    "# Determine CSV \n",
    "csv_file = \"/Users/ashleypatricia/Documents/GitHub/project1-collab/Resources/Maricopa Counties.csv\"\n",
    "maricopa_df = pd.read_csv(csv_file)\n",
    "maricopa_df.head()"
   ]
  },
  {
   "cell_type": "code",
   "execution_count": 9,
   "metadata": {},
   "outputs": [
    {
     "output_type": "execute_result",
     "data": {
      "text/plain": [
       "201"
      ]
     },
     "metadata": {},
     "execution_count": 9
    }
   ],
   "source": [
    "# See if any zipcodes are repeated \n",
    "maricopa_df[\"Zipcode\"].count()\n",
    "#unique = maricopa_df[\"Zipcode\"].unique\n",
    "#unique"
   ]
  },
  {
   "cell_type": "code",
   "execution_count": null,
   "metadata": {},
   "outputs": [],
   "source": []
  }
 ]
}