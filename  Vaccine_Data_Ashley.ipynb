{
 "metadata": {
  "language_info": {
   "codemirror_mode": {
    "name": "ipython",
    "version": 3
   },
   "file_extension": ".py",
   "mimetype": "text/x-python",
   "name": "python",
   "nbconvert_exporter": "python",
   "pygments_lexer": "ipython3",
   "version": "3.8.5"
  },
  "orig_nbformat": 2,
  "kernelspec": {
   "name": "python385jvsc74a57bd0dca0ade3e726a953b501b15e8e990130d2b7799f14cfd9f4271676035ebe5511",
   "display_name": "Python 3.8.5 64-bit ('base': conda)"
  }
 },
 "nbformat": 4,
 "nbformat_minor": 2,
 "cells": [
  {
   "source": [
    "## Main Question: What do covid case percentages look like compared to the percent of the population vaccinated in Arizona?"
   ],
   "cell_type": "markdown",
   "metadata": {}
  },
  {
   "cell_type": "code",
   "execution_count": 178,
   "metadata": {},
   "outputs": [],
   "source": [
    "# Dependencies and Setup\n",
    "import matplotlib.pyplot as plt\n",
    "import pandas as pd\n",
    "import numpy as np\n",
    "from operator import truediv"
   ]
  },
  {
   "cell_type": "code",
   "execution_count": 179,
   "metadata": {},
   "outputs": [
    {
     "output_type": "execute_result",
     "data": {
      "text/plain": [
       "     Unnamed: 0  POSTCODE  Total Population Total Case Count  \\\n",
       "0             0     85003              8499             1534   \n",
       "1             1     85004              7164              969   \n",
       "2             2     85006             27206             3272   \n",
       "3             3     85007             14428             2424   \n",
       "4             4     85008             62340             9079   \n",
       "..          ...       ...               ...              ...   \n",
       "339         360     86444              1254               60   \n",
       "340         361     86445               254               12   \n",
       "341         362     86502              1095              497   \n",
       "342         364     86505              8036              137   \n",
       "343         366     86511              3680             1-10   \n",
       "\n",
       "     % Cases Over Age 18  % Cases Over Age 65 Total Cases Category  \\\n",
       "0                  46.20                74.49    Greater Than 1000   \n",
       "1                  63.68                61.45             501-1000   \n",
       "2                  35.85                54.55    Greater Than 1000   \n",
       "3                  41.44                63.91    Greater Than 1000   \n",
       "4                  33.01                56.27    Greater Than 1000   \n",
       "..                   ...                  ...                  ...   \n",
       "339                34.27                49.25               11-100   \n",
       "340                12.73                20.45               11-100   \n",
       "341                34.12                47.10              101-500   \n",
       "342                12.40                36.62              101-500   \n",
       "343                 0.19                 0.00                 1-10   \n",
       "\n",
       "    Total Vaccinated Total      Vaccinated Category Median Household Income  \n",
       "0               4898                    1,001-5,000                   44140  \n",
       "1               4281                    1,001-5,000                   41951  \n",
       "2               6780                   5,001-10,000                   38121  \n",
       "3               4719                    1,001-5,000                   34667  \n",
       "4              14187            Greater Than 10,000                   43574  \n",
       "..               ...                            ...                     ...  \n",
       "339              450                       11-1,000                   46389  \n",
       "340               42                       11-1,000                   51150  \n",
       "341              265                       11-1,000                   18542  \n",
       "342               54                       11-1,000                   23767  \n",
       "343             1-10                           1-10                   29617  \n",
       "\n",
       "[344 rows x 10 columns]"
      ],
      "text/html": "<div>\n<style scoped>\n    .dataframe tbody tr th:only-of-type {\n        vertical-align: middle;\n    }\n\n    .dataframe tbody tr th {\n        vertical-align: top;\n    }\n\n    .dataframe thead th {\n        text-align: right;\n    }\n</style>\n<table border=\"1\" class=\"dataframe\">\n  <thead>\n    <tr style=\"text-align: right;\">\n      <th></th>\n      <th>Unnamed: 0</th>\n      <th>POSTCODE</th>\n      <th>Total Population</th>\n      <th>Total Case Count</th>\n      <th>% Cases Over Age 18</th>\n      <th>% Cases Over Age 65</th>\n      <th>Total Cases Category</th>\n      <th>Total Vaccinated</th>\n      <th>Total      Vaccinated Category</th>\n      <th>Median Household Income</th>\n    </tr>\n  </thead>\n  <tbody>\n    <tr>\n      <th>0</th>\n      <td>0</td>\n      <td>85003</td>\n      <td>8499</td>\n      <td>1534</td>\n      <td>46.20</td>\n      <td>74.49</td>\n      <td>Greater Than 1000</td>\n      <td>4898</td>\n      <td>1,001-5,000</td>\n      <td>44140</td>\n    </tr>\n    <tr>\n      <th>1</th>\n      <td>1</td>\n      <td>85004</td>\n      <td>7164</td>\n      <td>969</td>\n      <td>63.68</td>\n      <td>61.45</td>\n      <td>501-1000</td>\n      <td>4281</td>\n      <td>1,001-5,000</td>\n      <td>41951</td>\n    </tr>\n    <tr>\n      <th>2</th>\n      <td>2</td>\n      <td>85006</td>\n      <td>27206</td>\n      <td>3272</td>\n      <td>35.85</td>\n      <td>54.55</td>\n      <td>Greater Than 1000</td>\n      <td>6780</td>\n      <td>5,001-10,000</td>\n      <td>38121</td>\n    </tr>\n    <tr>\n      <th>3</th>\n      <td>3</td>\n      <td>85007</td>\n      <td>14428</td>\n      <td>2424</td>\n      <td>41.44</td>\n      <td>63.91</td>\n      <td>Greater Than 1000</td>\n      <td>4719</td>\n      <td>1,001-5,000</td>\n      <td>34667</td>\n    </tr>\n    <tr>\n      <th>4</th>\n      <td>4</td>\n      <td>85008</td>\n      <td>62340</td>\n      <td>9079</td>\n      <td>33.01</td>\n      <td>56.27</td>\n      <td>Greater Than 1000</td>\n      <td>14187</td>\n      <td>Greater Than 10,000</td>\n      <td>43574</td>\n    </tr>\n    <tr>\n      <th>...</th>\n      <td>...</td>\n      <td>...</td>\n      <td>...</td>\n      <td>...</td>\n      <td>...</td>\n      <td>...</td>\n      <td>...</td>\n      <td>...</td>\n      <td>...</td>\n      <td>...</td>\n    </tr>\n    <tr>\n      <th>339</th>\n      <td>360</td>\n      <td>86444</td>\n      <td>1254</td>\n      <td>60</td>\n      <td>34.27</td>\n      <td>49.25</td>\n      <td>11-100</td>\n      <td>450</td>\n      <td>11-1,000</td>\n      <td>46389</td>\n    </tr>\n    <tr>\n      <th>340</th>\n      <td>361</td>\n      <td>86445</td>\n      <td>254</td>\n      <td>12</td>\n      <td>12.73</td>\n      <td>20.45</td>\n      <td>11-100</td>\n      <td>42</td>\n      <td>11-1,000</td>\n      <td>51150</td>\n    </tr>\n    <tr>\n      <th>341</th>\n      <td>362</td>\n      <td>86502</td>\n      <td>1095</td>\n      <td>497</td>\n      <td>34.12</td>\n      <td>47.10</td>\n      <td>101-500</td>\n      <td>265</td>\n      <td>11-1,000</td>\n      <td>18542</td>\n    </tr>\n    <tr>\n      <th>342</th>\n      <td>364</td>\n      <td>86505</td>\n      <td>8036</td>\n      <td>137</td>\n      <td>12.40</td>\n      <td>36.62</td>\n      <td>101-500</td>\n      <td>54</td>\n      <td>11-1,000</td>\n      <td>23767</td>\n    </tr>\n    <tr>\n      <th>343</th>\n      <td>366</td>\n      <td>86511</td>\n      <td>3680</td>\n      <td>1-10</td>\n      <td>0.19</td>\n      <td>0.00</td>\n      <td>1-10</td>\n      <td>1-10</td>\n      <td>1-10</td>\n      <td>29617</td>\n    </tr>\n  </tbody>\n</table>\n<p>344 rows × 10 columns</p>\n</div>"
     },
     "metadata": {},
     "execution_count": 179
    }
   ],
   "source": [
    "# Import cleaned csv\n",
    "csvfile1 = \"Resources/Cleaned_Vaccine_Case_Data.csv\"\n",
    "\n",
    "# Add as DataFrame\n",
    "main_df = pd.read_csv(csvfile1)\n",
    "main_df"
   ]
  },
  {
   "cell_type": "code",
   "execution_count": 187,
   "metadata": {},
   "outputs": [
    {
     "output_type": "execute_result",
     "data": {
      "text/plain": [
       "     POSTCODE  Total Population Total Case Count  % Cases Over Age 18  \\\n",
       "0       85003              8499             1534                46.20   \n",
       "1       85004              7164              969                63.68   \n",
       "2       85006             27206             3272                35.85   \n",
       "3       85007             14428             2424                41.44   \n",
       "4       85008             62340             9079                33.01   \n",
       "..        ...               ...              ...                  ...   \n",
       "339     86444              1254               60                34.27   \n",
       "340     86445               254               12                12.73   \n",
       "341     86502              1095              497                34.12   \n",
       "342     86505              8036              137                12.40   \n",
       "343     86511              3680             1-10                 0.19   \n",
       "\n",
       "     % Cases Over Age 65 Total Cases Category Total Vaccinated  \\\n",
       "0                  74.49    Greater Than 1000             4898   \n",
       "1                  61.45             501-1000             4281   \n",
       "2                  54.55    Greater Than 1000             6780   \n",
       "3                  63.91    Greater Than 1000             4719   \n",
       "4                  56.27    Greater Than 1000            14187   \n",
       "..                   ...                  ...              ...   \n",
       "339                49.25               11-100              450   \n",
       "340                20.45               11-100               42   \n",
       "341                47.10              101-500              265   \n",
       "342                36.62              101-500               54   \n",
       "343                 0.00                 1-10             1-10   \n",
       "\n",
       "    Total      Vaccinated Category Median Household Income  \n",
       "0                      1,001-5,000                   44140  \n",
       "1                      1,001-5,000                   41951  \n",
       "2                     5,001-10,000                   38121  \n",
       "3                      1,001-5,000                   34667  \n",
       "4              Greater Than 10,000                   43574  \n",
       "..                             ...                     ...  \n",
       "339                       11-1,000                   46389  \n",
       "340                       11-1,000                   51150  \n",
       "341                       11-1,000                   18542  \n",
       "342                       11-1,000                   23767  \n",
       "343                           1-10                   29617  \n",
       "\n",
       "[344 rows x 9 columns]"
      ],
      "text/html": "<div>\n<style scoped>\n    .dataframe tbody tr th:only-of-type {\n        vertical-align: middle;\n    }\n\n    .dataframe tbody tr th {\n        vertical-align: top;\n    }\n\n    .dataframe thead th {\n        text-align: right;\n    }\n</style>\n<table border=\"1\" class=\"dataframe\">\n  <thead>\n    <tr style=\"text-align: right;\">\n      <th></th>\n      <th>POSTCODE</th>\n      <th>Total Population</th>\n      <th>Total Case Count</th>\n      <th>% Cases Over Age 18</th>\n      <th>% Cases Over Age 65</th>\n      <th>Total Cases Category</th>\n      <th>Total Vaccinated</th>\n      <th>Total      Vaccinated Category</th>\n      <th>Median Household Income</th>\n    </tr>\n  </thead>\n  <tbody>\n    <tr>\n      <th>0</th>\n      <td>85003</td>\n      <td>8499</td>\n      <td>1534</td>\n      <td>46.20</td>\n      <td>74.49</td>\n      <td>Greater Than 1000</td>\n      <td>4898</td>\n      <td>1,001-5,000</td>\n      <td>44140</td>\n    </tr>\n    <tr>\n      <th>1</th>\n      <td>85004</td>\n      <td>7164</td>\n      <td>969</td>\n      <td>63.68</td>\n      <td>61.45</td>\n      <td>501-1000</td>\n      <td>4281</td>\n      <td>1,001-5,000</td>\n      <td>41951</td>\n    </tr>\n    <tr>\n      <th>2</th>\n      <td>85006</td>\n      <td>27206</td>\n      <td>3272</td>\n      <td>35.85</td>\n      <td>54.55</td>\n      <td>Greater Than 1000</td>\n      <td>6780</td>\n      <td>5,001-10,000</td>\n      <td>38121</td>\n    </tr>\n    <tr>\n      <th>3</th>\n      <td>85007</td>\n      <td>14428</td>\n      <td>2424</td>\n      <td>41.44</td>\n      <td>63.91</td>\n      <td>Greater Than 1000</td>\n      <td>4719</td>\n      <td>1,001-5,000</td>\n      <td>34667</td>\n    </tr>\n    <tr>\n      <th>4</th>\n      <td>85008</td>\n      <td>62340</td>\n      <td>9079</td>\n      <td>33.01</td>\n      <td>56.27</td>\n      <td>Greater Than 1000</td>\n      <td>14187</td>\n      <td>Greater Than 10,000</td>\n      <td>43574</td>\n    </tr>\n    <tr>\n      <th>...</th>\n      <td>...</td>\n      <td>...</td>\n      <td>...</td>\n      <td>...</td>\n      <td>...</td>\n      <td>...</td>\n      <td>...</td>\n      <td>...</td>\n      <td>...</td>\n    </tr>\n    <tr>\n      <th>339</th>\n      <td>86444</td>\n      <td>1254</td>\n      <td>60</td>\n      <td>34.27</td>\n      <td>49.25</td>\n      <td>11-100</td>\n      <td>450</td>\n      <td>11-1,000</td>\n      <td>46389</td>\n    </tr>\n    <tr>\n      <th>340</th>\n      <td>86445</td>\n      <td>254</td>\n      <td>12</td>\n      <td>12.73</td>\n      <td>20.45</td>\n      <td>11-100</td>\n      <td>42</td>\n      <td>11-1,000</td>\n      <td>51150</td>\n    </tr>\n    <tr>\n      <th>341</th>\n      <td>86502</td>\n      <td>1095</td>\n      <td>497</td>\n      <td>34.12</td>\n      <td>47.10</td>\n      <td>101-500</td>\n      <td>265</td>\n      <td>11-1,000</td>\n      <td>18542</td>\n    </tr>\n    <tr>\n      <th>342</th>\n      <td>86505</td>\n      <td>8036</td>\n      <td>137</td>\n      <td>12.40</td>\n      <td>36.62</td>\n      <td>101-500</td>\n      <td>54</td>\n      <td>11-1,000</td>\n      <td>23767</td>\n    </tr>\n    <tr>\n      <th>343</th>\n      <td>86511</td>\n      <td>3680</td>\n      <td>1-10</td>\n      <td>0.19</td>\n      <td>0.00</td>\n      <td>1-10</td>\n      <td>1-10</td>\n      <td>1-10</td>\n      <td>29617</td>\n    </tr>\n  </tbody>\n</table>\n<p>344 rows × 9 columns</p>\n</div>"
     },
     "metadata": {},
     "execution_count": 187
    }
   ],
   "source": [
    "# Drop the \"Unnamed: 0\" column\n",
    "del main_df[\"Unnamed: 0\"]\n",
    "main_df"
   ]
  },
  {
   "cell_type": "code",
   "execution_count": 180,
   "metadata": {},
   "outputs": [
    {
     "output_type": "execute_result",
     "data": {
      "text/plain": [
       "     Unnamed: 0  POSTCODE  Total Population Total Case Count  \\\n",
       "0             0     85003              8499             1534   \n",
       "1             1     85004              7164              969   \n",
       "2             2     85006             27206             3272   \n",
       "3             3     85007             14428             2424   \n",
       "4             4     85008             62340             9079   \n",
       "..          ...       ...               ...              ...   \n",
       "337         358     86442             33895             4071   \n",
       "339         360     86444              1254               60   \n",
       "340         361     86445               254               12   \n",
       "341         362     86502              1095              497   \n",
       "342         364     86505              8036              137   \n",
       "\n",
       "     % Cases Over Age 18  % Cases Over Age 65 Total Cases Category  \\\n",
       "0                  46.20                74.49    Greater Than 1000   \n",
       "1                  63.68                61.45             501-1000   \n",
       "2                  35.85                54.55    Greater Than 1000   \n",
       "3                  41.44                63.91    Greater Than 1000   \n",
       "4                  33.01                56.27    Greater Than 1000   \n",
       "..                   ...                  ...                  ...   \n",
       "337                27.17                48.51    Greater Than 1000   \n",
       "339                34.27                49.25               11-100   \n",
       "340                12.73                20.45               11-100   \n",
       "341                34.12                47.10              101-500   \n",
       "342                12.40                36.62              101-500   \n",
       "\n",
       "    Total Vaccinated Total      Vaccinated Category Median Household Income  \\\n",
       "0               4898                    1,001-5,000                   44140   \n",
       "1               4281                    1,001-5,000                   41951   \n",
       "2               6780                   5,001-10,000                   38121   \n",
       "3               4719                    1,001-5,000                   34667   \n",
       "4              14187            Greater Than 10,000                   43574   \n",
       "..               ...                            ...                     ...   \n",
       "337             7922                   5,001-10,000                   39600   \n",
       "339              450                       11-1,000                   46389   \n",
       "340               42                       11-1,000                   51150   \n",
       "341              265                       11-1,000                   18542   \n",
       "342               54                       11-1,000                   23767   \n",
       "\n",
       "    Case Rate  \n",
       "0              \n",
       "1              \n",
       "2              \n",
       "3              \n",
       "4              \n",
       "..        ...  \n",
       "337            \n",
       "339            \n",
       "340            \n",
       "341            \n",
       "342            \n",
       "\n",
       "[327 rows x 11 columns]"
      ],
      "text/html": "<div>\n<style scoped>\n    .dataframe tbody tr th:only-of-type {\n        vertical-align: middle;\n    }\n\n    .dataframe tbody tr th {\n        vertical-align: top;\n    }\n\n    .dataframe thead th {\n        text-align: right;\n    }\n</style>\n<table border=\"1\" class=\"dataframe\">\n  <thead>\n    <tr style=\"text-align: right;\">\n      <th></th>\n      <th>Unnamed: 0</th>\n      <th>POSTCODE</th>\n      <th>Total Population</th>\n      <th>Total Case Count</th>\n      <th>% Cases Over Age 18</th>\n      <th>% Cases Over Age 65</th>\n      <th>Total Cases Category</th>\n      <th>Total Vaccinated</th>\n      <th>Total      Vaccinated Category</th>\n      <th>Median Household Income</th>\n      <th>Case Rate</th>\n    </tr>\n  </thead>\n  <tbody>\n    <tr>\n      <th>0</th>\n      <td>0</td>\n      <td>85003</td>\n      <td>8499</td>\n      <td>1534</td>\n      <td>46.20</td>\n      <td>74.49</td>\n      <td>Greater Than 1000</td>\n      <td>4898</td>\n      <td>1,001-5,000</td>\n      <td>44140</td>\n      <td></td>\n    </tr>\n    <tr>\n      <th>1</th>\n      <td>1</td>\n      <td>85004</td>\n      <td>7164</td>\n      <td>969</td>\n      <td>63.68</td>\n      <td>61.45</td>\n      <td>501-1000</td>\n      <td>4281</td>\n      <td>1,001-5,000</td>\n      <td>41951</td>\n      <td></td>\n    </tr>\n    <tr>\n      <th>2</th>\n      <td>2</td>\n      <td>85006</td>\n      <td>27206</td>\n      <td>3272</td>\n      <td>35.85</td>\n      <td>54.55</td>\n      <td>Greater Than 1000</td>\n      <td>6780</td>\n      <td>5,001-10,000</td>\n      <td>38121</td>\n      <td></td>\n    </tr>\n    <tr>\n      <th>3</th>\n      <td>3</td>\n      <td>85007</td>\n      <td>14428</td>\n      <td>2424</td>\n      <td>41.44</td>\n      <td>63.91</td>\n      <td>Greater Than 1000</td>\n      <td>4719</td>\n      <td>1,001-5,000</td>\n      <td>34667</td>\n      <td></td>\n    </tr>\n    <tr>\n      <th>4</th>\n      <td>4</td>\n      <td>85008</td>\n      <td>62340</td>\n      <td>9079</td>\n      <td>33.01</td>\n      <td>56.27</td>\n      <td>Greater Than 1000</td>\n      <td>14187</td>\n      <td>Greater Than 10,000</td>\n      <td>43574</td>\n      <td></td>\n    </tr>\n    <tr>\n      <th>...</th>\n      <td>...</td>\n      <td>...</td>\n      <td>...</td>\n      <td>...</td>\n      <td>...</td>\n      <td>...</td>\n      <td>...</td>\n      <td>...</td>\n      <td>...</td>\n      <td>...</td>\n      <td>...</td>\n    </tr>\n    <tr>\n      <th>337</th>\n      <td>358</td>\n      <td>86442</td>\n      <td>33895</td>\n      <td>4071</td>\n      <td>27.17</td>\n      <td>48.51</td>\n      <td>Greater Than 1000</td>\n      <td>7922</td>\n      <td>5,001-10,000</td>\n      <td>39600</td>\n      <td></td>\n    </tr>\n    <tr>\n      <th>339</th>\n      <td>360</td>\n      <td>86444</td>\n      <td>1254</td>\n      <td>60</td>\n      <td>34.27</td>\n      <td>49.25</td>\n      <td>11-100</td>\n      <td>450</td>\n      <td>11-1,000</td>\n      <td>46389</td>\n      <td></td>\n    </tr>\n    <tr>\n      <th>340</th>\n      <td>361</td>\n      <td>86445</td>\n      <td>254</td>\n      <td>12</td>\n      <td>12.73</td>\n      <td>20.45</td>\n      <td>11-100</td>\n      <td>42</td>\n      <td>11-1,000</td>\n      <td>51150</td>\n      <td></td>\n    </tr>\n    <tr>\n      <th>341</th>\n      <td>362</td>\n      <td>86502</td>\n      <td>1095</td>\n      <td>497</td>\n      <td>34.12</td>\n      <td>47.10</td>\n      <td>101-500</td>\n      <td>265</td>\n      <td>11-1,000</td>\n      <td>18542</td>\n      <td></td>\n    </tr>\n    <tr>\n      <th>342</th>\n      <td>364</td>\n      <td>86505</td>\n      <td>8036</td>\n      <td>137</td>\n      <td>12.40</td>\n      <td>36.62</td>\n      <td>101-500</td>\n      <td>54</td>\n      <td>11-1,000</td>\n      <td>23767</td>\n      <td></td>\n    </tr>\n  </tbody>\n</table>\n<p>327 rows × 11 columns</p>\n</div>"
     },
     "metadata": {},
     "execution_count": 180
    }
   ],
   "source": [
    "# Drop \"1-10\" values in \"Total Case Count\"\n",
    "clean_df = main_df.drop(main_df.loc[main_df[\"Total Case Count\"] == \"1-10\"].index)\n",
    "#clean_df = main_df.loc[main_df[\"Total Case Count\"] != \"1-10\"]\n",
    "clean_df\n",
    "\n",
    "# Add new column called \"Case Rate\"\n",
    "clean_df[\"Case Rate\"] = \" \"\n",
    "clean_df"
   ]
  },
  {
   "source": [
    "#### Find COVID-19 case rate by zipcode (total cases / total population)"
   ],
   "cell_type": "markdown",
   "metadata": {}
  },
  {
   "cell_type": "code",
   "execution_count": 181,
   "metadata": {
    "tags": []
   },
   "outputs": [
    {
     "output_type": "execute_result",
     "data": {
      "text/plain": [
       "     Unnamed: 0  POSTCODE  Total Population Total Case Count  \\\n",
       "0             0     85003              8499             1534   \n",
       "1             1     85004              7164              969   \n",
       "2             2     85006             27206             3272   \n",
       "3             3     85007             14428             2424   \n",
       "4             4     85008             62340             9079   \n",
       "..          ...       ...               ...              ...   \n",
       "337         358     86442             33895             4071   \n",
       "339         360     86444              1254               60   \n",
       "340         361     86445               254               12   \n",
       "341         362     86502              1095              497   \n",
       "342         364     86505              8036              137   \n",
       "\n",
       "     % Cases Over Age 18  % Cases Over Age 65 Total Cases Category  \\\n",
       "0                  46.20                74.49    Greater Than 1000   \n",
       "1                  63.68                61.45             501-1000   \n",
       "2                  35.85                54.55    Greater Than 1000   \n",
       "3                  41.44                63.91    Greater Than 1000   \n",
       "4                  33.01                56.27    Greater Than 1000   \n",
       "..                   ...                  ...                  ...   \n",
       "337                27.17                48.51    Greater Than 1000   \n",
       "339                34.27                49.25               11-100   \n",
       "340                12.73                20.45               11-100   \n",
       "341                34.12                47.10              101-500   \n",
       "342                12.40                36.62              101-500   \n",
       "\n",
       "    Total Vaccinated Total      Vaccinated Category Median Household Income  \\\n",
       "0               4898                    1,001-5,000                   44140   \n",
       "1               4281                    1,001-5,000                   41951   \n",
       "2               6780                   5,001-10,000                   38121   \n",
       "3               4719                    1,001-5,000                   34667   \n",
       "4              14187            Greater Than 10,000                   43574   \n",
       "..               ...                            ...                     ...   \n",
       "337             7922                   5,001-10,000                   39600   \n",
       "339              450                       11-1,000                   46389   \n",
       "340               42                       11-1,000                   51150   \n",
       "341              265                       11-1,000                   18542   \n",
       "342               54                       11-1,000                   23767   \n",
       "\n",
       "    Case Rate  \n",
       "0       0.18%  \n",
       "1       0.14%  \n",
       "2       0.12%  \n",
       "3       0.17%  \n",
       "4       0.15%  \n",
       "..        ...  \n",
       "337     0.12%  \n",
       "339     0.05%  \n",
       "340     0.05%  \n",
       "341     0.45%  \n",
       "342     0.02%  \n",
       "\n",
       "[327 rows x 11 columns]"
      ],
      "text/html": "<div>\n<style scoped>\n    .dataframe tbody tr th:only-of-type {\n        vertical-align: middle;\n    }\n\n    .dataframe tbody tr th {\n        vertical-align: top;\n    }\n\n    .dataframe thead th {\n        text-align: right;\n    }\n</style>\n<table border=\"1\" class=\"dataframe\">\n  <thead>\n    <tr style=\"text-align: right;\">\n      <th></th>\n      <th>Unnamed: 0</th>\n      <th>POSTCODE</th>\n      <th>Total Population</th>\n      <th>Total Case Count</th>\n      <th>% Cases Over Age 18</th>\n      <th>% Cases Over Age 65</th>\n      <th>Total Cases Category</th>\n      <th>Total Vaccinated</th>\n      <th>Total      Vaccinated Category</th>\n      <th>Median Household Income</th>\n      <th>Case Rate</th>\n    </tr>\n  </thead>\n  <tbody>\n    <tr>\n      <th>0</th>\n      <td>0</td>\n      <td>85003</td>\n      <td>8499</td>\n      <td>1534</td>\n      <td>46.20</td>\n      <td>74.49</td>\n      <td>Greater Than 1000</td>\n      <td>4898</td>\n      <td>1,001-5,000</td>\n      <td>44140</td>\n      <td>0.18%</td>\n    </tr>\n    <tr>\n      <th>1</th>\n      <td>1</td>\n      <td>85004</td>\n      <td>7164</td>\n      <td>969</td>\n      <td>63.68</td>\n      <td>61.45</td>\n      <td>501-1000</td>\n      <td>4281</td>\n      <td>1,001-5,000</td>\n      <td>41951</td>\n      <td>0.14%</td>\n    </tr>\n    <tr>\n      <th>2</th>\n      <td>2</td>\n      <td>85006</td>\n      <td>27206</td>\n      <td>3272</td>\n      <td>35.85</td>\n      <td>54.55</td>\n      <td>Greater Than 1000</td>\n      <td>6780</td>\n      <td>5,001-10,000</td>\n      <td>38121</td>\n      <td>0.12%</td>\n    </tr>\n    <tr>\n      <th>3</th>\n      <td>3</td>\n      <td>85007</td>\n      <td>14428</td>\n      <td>2424</td>\n      <td>41.44</td>\n      <td>63.91</td>\n      <td>Greater Than 1000</td>\n      <td>4719</td>\n      <td>1,001-5,000</td>\n      <td>34667</td>\n      <td>0.17%</td>\n    </tr>\n    <tr>\n      <th>4</th>\n      <td>4</td>\n      <td>85008</td>\n      <td>62340</td>\n      <td>9079</td>\n      <td>33.01</td>\n      <td>56.27</td>\n      <td>Greater Than 1000</td>\n      <td>14187</td>\n      <td>Greater Than 10,000</td>\n      <td>43574</td>\n      <td>0.15%</td>\n    </tr>\n    <tr>\n      <th>...</th>\n      <td>...</td>\n      <td>...</td>\n      <td>...</td>\n      <td>...</td>\n      <td>...</td>\n      <td>...</td>\n      <td>...</td>\n      <td>...</td>\n      <td>...</td>\n      <td>...</td>\n      <td>...</td>\n    </tr>\n    <tr>\n      <th>337</th>\n      <td>358</td>\n      <td>86442</td>\n      <td>33895</td>\n      <td>4071</td>\n      <td>27.17</td>\n      <td>48.51</td>\n      <td>Greater Than 1000</td>\n      <td>7922</td>\n      <td>5,001-10,000</td>\n      <td>39600</td>\n      <td>0.12%</td>\n    </tr>\n    <tr>\n      <th>339</th>\n      <td>360</td>\n      <td>86444</td>\n      <td>1254</td>\n      <td>60</td>\n      <td>34.27</td>\n      <td>49.25</td>\n      <td>11-100</td>\n      <td>450</td>\n      <td>11-1,000</td>\n      <td>46389</td>\n      <td>0.05%</td>\n    </tr>\n    <tr>\n      <th>340</th>\n      <td>361</td>\n      <td>86445</td>\n      <td>254</td>\n      <td>12</td>\n      <td>12.73</td>\n      <td>20.45</td>\n      <td>11-100</td>\n      <td>42</td>\n      <td>11-1,000</td>\n      <td>51150</td>\n      <td>0.05%</td>\n    </tr>\n    <tr>\n      <th>341</th>\n      <td>362</td>\n      <td>86502</td>\n      <td>1095</td>\n      <td>497</td>\n      <td>34.12</td>\n      <td>47.10</td>\n      <td>101-500</td>\n      <td>265</td>\n      <td>11-1,000</td>\n      <td>18542</td>\n      <td>0.45%</td>\n    </tr>\n    <tr>\n      <th>342</th>\n      <td>364</td>\n      <td>86505</td>\n      <td>8036</td>\n      <td>137</td>\n      <td>12.40</td>\n      <td>36.62</td>\n      <td>101-500</td>\n      <td>54</td>\n      <td>11-1,000</td>\n      <td>23767</td>\n      <td>0.02%</td>\n    </tr>\n  </tbody>\n</table>\n<p>327 rows × 11 columns</p>\n</div>"
     },
     "metadata": {},
     "execution_count": 181
    }
   ],
   "source": [
    "# Create empty list for case rate data, cases, and population\n",
    "case_rates = []\n",
    "cases = []\n",
    "pop = []\n",
    "\n",
    "# For loop to find rate for each zipcode\n",
    "for index, row in clean_df.iterrows():\n",
    "    # Get cases and population totals \n",
    "    cases = int(row[\"Total Case Count\"])\n",
    "    pop = int(row[\"Total Population\"])\n",
    "    # Take the number of cases and divide it by total population\n",
    "    try:\n",
    "        rates = cases / pop\n",
    "        case_rates.append(rates)\n",
    "\n",
    "    # If there is a population with 0, enter \"0\"\n",
    "    except (ZeroDivisionError):\n",
    "        case_rates.append(0)\n",
    "# Store the case rates into dataframe\n",
    "clean_df[\"Case Rate\"] = case_rates\n",
    "clean_df[\"Case Rate\"] = clean_df[\"Case Rate\"].astype(float).map(\"{:.2f}%\".format)\n",
    "clean_df"
   ]
  },
  {
   "source": [
    "### Find COVID-19 vaccine rate by zipcode (total vaccinated / total population)"
   ],
   "cell_type": "markdown",
   "metadata": {}
  },
  {
   "cell_type": "code",
   "execution_count": 182,
   "metadata": {},
   "outputs": [
    {
     "output_type": "execute_result",
     "data": {
      "text/plain": [
       "     Unnamed: 0  POSTCODE  Total Population Total Case Count  \\\n",
       "0             0     85003              8499             1534   \n",
       "1             1     85004              7164              969   \n",
       "2             2     85006             27206             3272   \n",
       "3             3     85007             14428             2424   \n",
       "4             4     85008             62340             9079   \n",
       "..          ...       ...               ...              ...   \n",
       "337         358     86442             33895             4071   \n",
       "339         360     86444              1254               60   \n",
       "340         361     86445               254               12   \n",
       "341         362     86502              1095              497   \n",
       "342         364     86505              8036              137   \n",
       "\n",
       "     % Cases Over Age 18  % Cases Over Age 65 Total Cases Category  \\\n",
       "0                  46.20                74.49    Greater Than 1000   \n",
       "1                  63.68                61.45             501-1000   \n",
       "2                  35.85                54.55    Greater Than 1000   \n",
       "3                  41.44                63.91    Greater Than 1000   \n",
       "4                  33.01                56.27    Greater Than 1000   \n",
       "..                   ...                  ...                  ...   \n",
       "337                27.17                48.51    Greater Than 1000   \n",
       "339                34.27                49.25               11-100   \n",
       "340                12.73                20.45               11-100   \n",
       "341                34.12                47.10              101-500   \n",
       "342                12.40                36.62              101-500   \n",
       "\n",
       "    Total Vaccinated Total      Vaccinated Category Median Household Income  \\\n",
       "0               4898                    1,001-5,000                   44140   \n",
       "1               4281                    1,001-5,000                   41951   \n",
       "2               6780                   5,001-10,000                   38121   \n",
       "3               4719                    1,001-5,000                   34667   \n",
       "4              14187            Greater Than 10,000                   43574   \n",
       "..               ...                            ...                     ...   \n",
       "337             7922                   5,001-10,000                   39600   \n",
       "339              450                       11-1,000                   46389   \n",
       "340               42                       11-1,000                   51150   \n",
       "341              265                       11-1,000                   18542   \n",
       "342               54                       11-1,000                   23767   \n",
       "\n",
       "    Case Rate Vaccine Rate  \n",
       "0       0.18%               \n",
       "1       0.14%               \n",
       "2       0.12%               \n",
       "3       0.17%               \n",
       "4       0.15%               \n",
       "..        ...          ...  \n",
       "337     0.12%               \n",
       "339     0.05%               \n",
       "340     0.05%               \n",
       "341     0.45%               \n",
       "342     0.02%               \n",
       "\n",
       "[325 rows x 12 columns]"
      ],
      "text/html": "<div>\n<style scoped>\n    .dataframe tbody tr th:only-of-type {\n        vertical-align: middle;\n    }\n\n    .dataframe tbody tr th {\n        vertical-align: top;\n    }\n\n    .dataframe thead th {\n        text-align: right;\n    }\n</style>\n<table border=\"1\" class=\"dataframe\">\n  <thead>\n    <tr style=\"text-align: right;\">\n      <th></th>\n      <th>Unnamed: 0</th>\n      <th>POSTCODE</th>\n      <th>Total Population</th>\n      <th>Total Case Count</th>\n      <th>% Cases Over Age 18</th>\n      <th>% Cases Over Age 65</th>\n      <th>Total Cases Category</th>\n      <th>Total Vaccinated</th>\n      <th>Total      Vaccinated Category</th>\n      <th>Median Household Income</th>\n      <th>Case Rate</th>\n      <th>Vaccine Rate</th>\n    </tr>\n  </thead>\n  <tbody>\n    <tr>\n      <th>0</th>\n      <td>0</td>\n      <td>85003</td>\n      <td>8499</td>\n      <td>1534</td>\n      <td>46.20</td>\n      <td>74.49</td>\n      <td>Greater Than 1000</td>\n      <td>4898</td>\n      <td>1,001-5,000</td>\n      <td>44140</td>\n      <td>0.18%</td>\n      <td></td>\n    </tr>\n    <tr>\n      <th>1</th>\n      <td>1</td>\n      <td>85004</td>\n      <td>7164</td>\n      <td>969</td>\n      <td>63.68</td>\n      <td>61.45</td>\n      <td>501-1000</td>\n      <td>4281</td>\n      <td>1,001-5,000</td>\n      <td>41951</td>\n      <td>0.14%</td>\n      <td></td>\n    </tr>\n    <tr>\n      <th>2</th>\n      <td>2</td>\n      <td>85006</td>\n      <td>27206</td>\n      <td>3272</td>\n      <td>35.85</td>\n      <td>54.55</td>\n      <td>Greater Than 1000</td>\n      <td>6780</td>\n      <td>5,001-10,000</td>\n      <td>38121</td>\n      <td>0.12%</td>\n      <td></td>\n    </tr>\n    <tr>\n      <th>3</th>\n      <td>3</td>\n      <td>85007</td>\n      <td>14428</td>\n      <td>2424</td>\n      <td>41.44</td>\n      <td>63.91</td>\n      <td>Greater Than 1000</td>\n      <td>4719</td>\n      <td>1,001-5,000</td>\n      <td>34667</td>\n      <td>0.17%</td>\n      <td></td>\n    </tr>\n    <tr>\n      <th>4</th>\n      <td>4</td>\n      <td>85008</td>\n      <td>62340</td>\n      <td>9079</td>\n      <td>33.01</td>\n      <td>56.27</td>\n      <td>Greater Than 1000</td>\n      <td>14187</td>\n      <td>Greater Than 10,000</td>\n      <td>43574</td>\n      <td>0.15%</td>\n      <td></td>\n    </tr>\n    <tr>\n      <th>...</th>\n      <td>...</td>\n      <td>...</td>\n      <td>...</td>\n      <td>...</td>\n      <td>...</td>\n      <td>...</td>\n      <td>...</td>\n      <td>...</td>\n      <td>...</td>\n      <td>...</td>\n      <td>...</td>\n      <td>...</td>\n    </tr>\n    <tr>\n      <th>337</th>\n      <td>358</td>\n      <td>86442</td>\n      <td>33895</td>\n      <td>4071</td>\n      <td>27.17</td>\n      <td>48.51</td>\n      <td>Greater Than 1000</td>\n      <td>7922</td>\n      <td>5,001-10,000</td>\n      <td>39600</td>\n      <td>0.12%</td>\n      <td></td>\n    </tr>\n    <tr>\n      <th>339</th>\n      <td>360</td>\n      <td>86444</td>\n      <td>1254</td>\n      <td>60</td>\n      <td>34.27</td>\n      <td>49.25</td>\n      <td>11-100</td>\n      <td>450</td>\n      <td>11-1,000</td>\n      <td>46389</td>\n      <td>0.05%</td>\n      <td></td>\n    </tr>\n    <tr>\n      <th>340</th>\n      <td>361</td>\n      <td>86445</td>\n      <td>254</td>\n      <td>12</td>\n      <td>12.73</td>\n      <td>20.45</td>\n      <td>11-100</td>\n      <td>42</td>\n      <td>11-1,000</td>\n      <td>51150</td>\n      <td>0.05%</td>\n      <td></td>\n    </tr>\n    <tr>\n      <th>341</th>\n      <td>362</td>\n      <td>86502</td>\n      <td>1095</td>\n      <td>497</td>\n      <td>34.12</td>\n      <td>47.10</td>\n      <td>101-500</td>\n      <td>265</td>\n      <td>11-1,000</td>\n      <td>18542</td>\n      <td>0.45%</td>\n      <td></td>\n    </tr>\n    <tr>\n      <th>342</th>\n      <td>364</td>\n      <td>86505</td>\n      <td>8036</td>\n      <td>137</td>\n      <td>12.40</td>\n      <td>36.62</td>\n      <td>101-500</td>\n      <td>54</td>\n      <td>11-1,000</td>\n      <td>23767</td>\n      <td>0.02%</td>\n      <td></td>\n    </tr>\n  </tbody>\n</table>\n<p>325 rows × 12 columns</p>\n</div>"
     },
     "metadata": {},
     "execution_count": 182
    }
   ],
   "source": [
    "# Drop \"1-10\" values in \"Total Case Count\"\n",
    "vacc_df = clean_df.drop(clean_df.loc[clean_df[\"Total Vaccinated\"] == \"1-10\"].index)\n",
    "vacc_df\n",
    "\n",
    "# Add new column called \"Vaccine Case Rate\"\n",
    "vacc_df[\"Vaccine Rate\"] = \" \"\n",
    "vacc_df"
   ]
  },
  {
   "cell_type": "code",
   "execution_count": 185,
   "metadata": {},
   "outputs": [
    {
     "output_type": "execute_result",
     "data": {
      "text/plain": [
       "     Unnamed: 0  POSTCODE  Total Population Total Case Count  \\\n",
       "0             0     85003              8499             1534   \n",
       "1             1     85004              7164              969   \n",
       "2             2     85006             27206             3272   \n",
       "3             3     85007             14428             2424   \n",
       "4             4     85008             62340             9079   \n",
       "..          ...       ...               ...              ...   \n",
       "337         358     86442             33895             4071   \n",
       "339         360     86444              1254               60   \n",
       "340         361     86445               254               12   \n",
       "341         362     86502              1095              497   \n",
       "342         364     86505              8036              137   \n",
       "\n",
       "     % Cases Over Age 18  % Cases Over Age 65 Total Cases Category  \\\n",
       "0                  46.20                74.49    Greater Than 1000   \n",
       "1                  63.68                61.45             501-1000   \n",
       "2                  35.85                54.55    Greater Than 1000   \n",
       "3                  41.44                63.91    Greater Than 1000   \n",
       "4                  33.01                56.27    Greater Than 1000   \n",
       "..                   ...                  ...                  ...   \n",
       "337                27.17                48.51    Greater Than 1000   \n",
       "339                34.27                49.25               11-100   \n",
       "340                12.73                20.45               11-100   \n",
       "341                34.12                47.10              101-500   \n",
       "342                12.40                36.62              101-500   \n",
       "\n",
       "    Total Vaccinated Total      Vaccinated Category Median Household Income  \\\n",
       "0               4898                    1,001-5,000                   44140   \n",
       "1               4281                    1,001-5,000                   41951   \n",
       "2               6780                   5,001-10,000                   38121   \n",
       "3               4719                    1,001-5,000                   34667   \n",
       "4              14187            Greater Than 10,000                   43574   \n",
       "..               ...                            ...                     ...   \n",
       "337             7922                   5,001-10,000                   39600   \n",
       "339              450                       11-1,000                   46389   \n",
       "340               42                       11-1,000                   51150   \n",
       "341              265                       11-1,000                   18542   \n",
       "342               54                       11-1,000                   23767   \n",
       "\n",
       "    Case Rate Vaccine Rate  \n",
       "0       0.18%        0.58%  \n",
       "1       0.14%        0.60%  \n",
       "2       0.12%        0.25%  \n",
       "3       0.17%        0.33%  \n",
       "4       0.15%        0.23%  \n",
       "..        ...          ...  \n",
       "337     0.12%        0.23%  \n",
       "339     0.05%        0.36%  \n",
       "340     0.05%        0.17%  \n",
       "341     0.45%        0.24%  \n",
       "342     0.02%        0.01%  \n",
       "\n",
       "[325 rows x 12 columns]"
      ],
      "text/html": "<div>\n<style scoped>\n    .dataframe tbody tr th:only-of-type {\n        vertical-align: middle;\n    }\n\n    .dataframe tbody tr th {\n        vertical-align: top;\n    }\n\n    .dataframe thead th {\n        text-align: right;\n    }\n</style>\n<table border=\"1\" class=\"dataframe\">\n  <thead>\n    <tr style=\"text-align: right;\">\n      <th></th>\n      <th>Unnamed: 0</th>\n      <th>POSTCODE</th>\n      <th>Total Population</th>\n      <th>Total Case Count</th>\n      <th>% Cases Over Age 18</th>\n      <th>% Cases Over Age 65</th>\n      <th>Total Cases Category</th>\n      <th>Total Vaccinated</th>\n      <th>Total      Vaccinated Category</th>\n      <th>Median Household Income</th>\n      <th>Case Rate</th>\n      <th>Vaccine Rate</th>\n    </tr>\n  </thead>\n  <tbody>\n    <tr>\n      <th>0</th>\n      <td>0</td>\n      <td>85003</td>\n      <td>8499</td>\n      <td>1534</td>\n      <td>46.20</td>\n      <td>74.49</td>\n      <td>Greater Than 1000</td>\n      <td>4898</td>\n      <td>1,001-5,000</td>\n      <td>44140</td>\n      <td>0.18%</td>\n      <td>0.58%</td>\n    </tr>\n    <tr>\n      <th>1</th>\n      <td>1</td>\n      <td>85004</td>\n      <td>7164</td>\n      <td>969</td>\n      <td>63.68</td>\n      <td>61.45</td>\n      <td>501-1000</td>\n      <td>4281</td>\n      <td>1,001-5,000</td>\n      <td>41951</td>\n      <td>0.14%</td>\n      <td>0.60%</td>\n    </tr>\n    <tr>\n      <th>2</th>\n      <td>2</td>\n      <td>85006</td>\n      <td>27206</td>\n      <td>3272</td>\n      <td>35.85</td>\n      <td>54.55</td>\n      <td>Greater Than 1000</td>\n      <td>6780</td>\n      <td>5,001-10,000</td>\n      <td>38121</td>\n      <td>0.12%</td>\n      <td>0.25%</td>\n    </tr>\n    <tr>\n      <th>3</th>\n      <td>3</td>\n      <td>85007</td>\n      <td>14428</td>\n      <td>2424</td>\n      <td>41.44</td>\n      <td>63.91</td>\n      <td>Greater Than 1000</td>\n      <td>4719</td>\n      <td>1,001-5,000</td>\n      <td>34667</td>\n      <td>0.17%</td>\n      <td>0.33%</td>\n    </tr>\n    <tr>\n      <th>4</th>\n      <td>4</td>\n      <td>85008</td>\n      <td>62340</td>\n      <td>9079</td>\n      <td>33.01</td>\n      <td>56.27</td>\n      <td>Greater Than 1000</td>\n      <td>14187</td>\n      <td>Greater Than 10,000</td>\n      <td>43574</td>\n      <td>0.15%</td>\n      <td>0.23%</td>\n    </tr>\n    <tr>\n      <th>...</th>\n      <td>...</td>\n      <td>...</td>\n      <td>...</td>\n      <td>...</td>\n      <td>...</td>\n      <td>...</td>\n      <td>...</td>\n      <td>...</td>\n      <td>...</td>\n      <td>...</td>\n      <td>...</td>\n      <td>...</td>\n    </tr>\n    <tr>\n      <th>337</th>\n      <td>358</td>\n      <td>86442</td>\n      <td>33895</td>\n      <td>4071</td>\n      <td>27.17</td>\n      <td>48.51</td>\n      <td>Greater Than 1000</td>\n      <td>7922</td>\n      <td>5,001-10,000</td>\n      <td>39600</td>\n      <td>0.12%</td>\n      <td>0.23%</td>\n    </tr>\n    <tr>\n      <th>339</th>\n      <td>360</td>\n      <td>86444</td>\n      <td>1254</td>\n      <td>60</td>\n      <td>34.27</td>\n      <td>49.25</td>\n      <td>11-100</td>\n      <td>450</td>\n      <td>11-1,000</td>\n      <td>46389</td>\n      <td>0.05%</td>\n      <td>0.36%</td>\n    </tr>\n    <tr>\n      <th>340</th>\n      <td>361</td>\n      <td>86445</td>\n      <td>254</td>\n      <td>12</td>\n      <td>12.73</td>\n      <td>20.45</td>\n      <td>11-100</td>\n      <td>42</td>\n      <td>11-1,000</td>\n      <td>51150</td>\n      <td>0.05%</td>\n      <td>0.17%</td>\n    </tr>\n    <tr>\n      <th>341</th>\n      <td>362</td>\n      <td>86502</td>\n      <td>1095</td>\n      <td>497</td>\n      <td>34.12</td>\n      <td>47.10</td>\n      <td>101-500</td>\n      <td>265</td>\n      <td>11-1,000</td>\n      <td>18542</td>\n      <td>0.45%</td>\n      <td>0.24%</td>\n    </tr>\n    <tr>\n      <th>342</th>\n      <td>364</td>\n      <td>86505</td>\n      <td>8036</td>\n      <td>137</td>\n      <td>12.40</td>\n      <td>36.62</td>\n      <td>101-500</td>\n      <td>54</td>\n      <td>11-1,000</td>\n      <td>23767</td>\n      <td>0.02%</td>\n      <td>0.01%</td>\n    </tr>\n  </tbody>\n</table>\n<p>325 rows × 12 columns</p>\n</div>"
     },
     "metadata": {},
     "execution_count": 185
    }
   ],
   "source": [
    "# Create empty list for vaccine rate data, cases, and population\n",
    "vaccine_rates = []\n",
    "total_vacc = []\n",
    "population = []\n",
    "\n",
    "# For loop to find rate for each zipcode\n",
    "for index, row in vacc_df.iterrows():\n",
    "    # Get cases and population totals \n",
    "    total_vacc = int(row[\"Total Vaccinated\"])\n",
    "    population = int(row[\"Total Population\"])\n",
    "    # Take the number of cases and divide it by total population\n",
    "    try:\n",
    "        vac_rate = total_vacc / population\n",
    "        vaccine_rates.append(vac_rate)\n",
    "\n",
    "    # If there is a population with 0, enter \"0\"\n",
    "    except (ZeroDivisionError):\n",
    "        vaccine_rates.append(0)\n",
    "# Store the case rates into dataframe\n",
    "vacc_df[\"Vaccine Rate\"] = vaccine_rates\n",
    "vacc_df[\"Vaccine Rate\"] = vacc_df[\"Vaccine Rate\"].astype(float).map(\"{:.2f}%\".format)\n",
    "vacc_df\n",
    "\n"
   ]
  },
  {
   "source": [
    "### Total cases versus total vaccinated"
   ],
   "cell_type": "markdown",
   "metadata": {}
  },
  {
   "cell_type": "code",
   "execution_count": 186,
   "metadata": {},
   "outputs": [
    {
     "output_type": "stream",
     "name": "stdout",
     "text": [
      "Index(['Unnamed: 0', 'POSTCODE', 'Total Population', 'Total Case Count',\n       '% Cases Over Age 18', '% Cases Over Age 65', 'Total Cases Category',\n       'Total Vaccinated', 'Total      Vaccinated Category',\n       'Median Household Income', 'Case Rate', 'Vaccine Rate'],\n      dtype='object')\n"
     ]
    },
    {
     "output_type": "error",
     "ename": "NameError",
     "evalue": "name 'organized' is not defined",
     "traceback": [
      "\u001b[0;31m---------------------------------------------------------------------------\u001b[0m",
      "\u001b[0;31mNameError\u001b[0m                                 Traceback (most recent call last)",
      "\u001b[0;32m<ipython-input-186-3ca0e9b98354>\u001b[0m in \u001b[0;36m<module>\u001b[0;34m\u001b[0m\n\u001b[1;32m      1\u001b[0m \u001b[0;31m# Organize columns to clean up dataframe\u001b[0m\u001b[0;34m\u001b[0m\u001b[0;34m\u001b[0m\u001b[0;34m\u001b[0m\u001b[0m\n\u001b[1;32m      2\u001b[0m \u001b[0mprint\u001b[0m\u001b[0;34m(\u001b[0m\u001b[0mvacc_df\u001b[0m\u001b[0;34m.\u001b[0m\u001b[0mcolumns\u001b[0m\u001b[0;34m)\u001b[0m\u001b[0;34m\u001b[0m\u001b[0;34m\u001b[0m\u001b[0m\n\u001b[0;32m----> 3\u001b[0;31m \u001b[0morganized\u001b[0m\u001b[0;34m\u001b[0m\u001b[0;34m\u001b[0m\u001b[0m\n\u001b[0m\u001b[1;32m      4\u001b[0m \u001b[0;34m\u001b[0m\u001b[0m\n\u001b[1;32m      5\u001b[0m \u001b[0;31m# Bar chart of case rate by zipCode\u001b[0m\u001b[0;34m\u001b[0m\u001b[0;34m\u001b[0m\u001b[0;34m\u001b[0m\u001b[0m\n",
      "\u001b[0;31mNameError\u001b[0m: name 'organized' is not defined"
     ]
    }
   ],
   "source": [
    "# Organize columns to clean up dataframe \n",
    "print(vacc_df.columns)\n",
    "organized_df = vacc_df[['Unnamed: 0', 'POSTCODE', 'Total Population', 'Total Case Count',\n",
    "       '% Cases Over Age 18', '% Cases Over Age 65', 'Total Cases Category',\n",
    "       'Total Vaccinated', 'Total      Vaccinated Category',\n",
    "       'Median Household Income', 'Case Rate', 'Vaccine Rate']]\n",
    "\n",
    "# Bar chart of case rate by zipCode \n",
    "\n",
    "# Bar chart of vaccine rate by zipcode \n",
    "\n",
    "# Compare"
   ]
  },
  {
   "cell_type": "code",
   "execution_count": null,
   "metadata": {},
   "outputs": [],
   "source": []
  }
 ]
}