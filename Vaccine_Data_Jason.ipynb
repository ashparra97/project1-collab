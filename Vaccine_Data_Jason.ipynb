{
 "metadata": {
  "language_info": {
   "codemirror_mode": {
    "name": "ipython",
    "version": 3
   },
   "file_extension": ".py",
   "mimetype": "text/x-python",
   "name": "python",
   "nbconvert_exporter": "python",
   "pygments_lexer": "ipython3",
   "version": "3.7.9"
  },
  "orig_nbformat": 2,
  "kernelspec": {
   "name": "python379jvsc74a57bd03caff1f6fb90138d0919c9d826d38659908ba61fc9999fc75443d91f43160cd9",
   "display_name": "Python 3.7.9 64-bit ('PythonData': conda)"
  }
 },
 "nbformat": 4,
 "nbformat_minor": 2,
 "cells": [
  {
   "cell_type": "code",
   "execution_count": 74,
   "metadata": {},
   "outputs": [],
   "source": [
    "# Import Depedencies \n",
    "import pandas as pd \n",
    "import matplotlib as plt\n",
    "import requests\n",
    "import gmaps\n",
    "\n",
    "# Getting API key\n",
    "from configs import gkey"
   ]
  },
  {
   "cell_type": "code",
   "execution_count": 64,
   "metadata": {},
   "outputs": [
    {
     "output_type": "execute_result",
     "data": {
      "text/plain": [
       "     POSTCODE  Total Population Total Case Count  % Cases Over Age 18  \\\n",
       "0       85003              8499             1534                46.20   \n",
       "1       85004              7164              969                63.68   \n",
       "2       85006             27206             3272                35.85   \n",
       "3       85007             14428             2424                41.44   \n",
       "4       85008             62340             9079                33.01   \n",
       "..        ...               ...              ...                  ...   \n",
       "339     86444              1254               60                34.27   \n",
       "340     86445               254               12                12.73   \n",
       "341     86502              1095              497                34.12   \n",
       "342     86505              8036              137                12.40   \n",
       "343     86511              3680             1-10                 0.19   \n",
       "\n",
       "     % Cases Over Age 65 Total Cases Category Total Vaccinated  \\\n",
       "0                  74.49    Greater Than 1000             4898   \n",
       "1                  61.45             501-1000             4281   \n",
       "2                  54.55    Greater Than 1000             6780   \n",
       "3                  63.91    Greater Than 1000             4719   \n",
       "4                  56.27    Greater Than 1000            14187   \n",
       "..                   ...                  ...              ...   \n",
       "339                49.25               11-100              450   \n",
       "340                20.45               11-100               42   \n",
       "341                47.10              101-500              265   \n",
       "342                36.62              101-500               54   \n",
       "343                 0.00                 1-10             1-10   \n",
       "\n",
       "    Total      Vaccinated Category Median Household Income  \n",
       "0                      1,001-5,000                   44140  \n",
       "1                      1,001-5,000                   41951  \n",
       "2                     5,001-10,000                   38121  \n",
       "3                      1,001-5,000                   34667  \n",
       "4              Greater Than 10,000                   43574  \n",
       "..                             ...                     ...  \n",
       "339                       11-1,000                   46389  \n",
       "340                       11-1,000                   51150  \n",
       "341                       11-1,000                   18542  \n",
       "342                       11-1,000                   23767  \n",
       "343                           1-10                   29617  \n",
       "\n",
       "[344 rows x 9 columns]"
      ],
      "text/html": "<div>\n<style scoped>\n    .dataframe tbody tr th:only-of-type {\n        vertical-align: middle;\n    }\n\n    .dataframe tbody tr th {\n        vertical-align: top;\n    }\n\n    .dataframe thead th {\n        text-align: right;\n    }\n</style>\n<table border=\"1\" class=\"dataframe\">\n  <thead>\n    <tr style=\"text-align: right;\">\n      <th></th>\n      <th>POSTCODE</th>\n      <th>Total Population</th>\n      <th>Total Case Count</th>\n      <th>% Cases Over Age 18</th>\n      <th>% Cases Over Age 65</th>\n      <th>Total Cases Category</th>\n      <th>Total Vaccinated</th>\n      <th>Total      Vaccinated Category</th>\n      <th>Median Household Income</th>\n    </tr>\n  </thead>\n  <tbody>\n    <tr>\n      <th>0</th>\n      <td>85003</td>\n      <td>8499</td>\n      <td>1534</td>\n      <td>46.20</td>\n      <td>74.49</td>\n      <td>Greater Than 1000</td>\n      <td>4898</td>\n      <td>1,001-5,000</td>\n      <td>44140</td>\n    </tr>\n    <tr>\n      <th>1</th>\n      <td>85004</td>\n      <td>7164</td>\n      <td>969</td>\n      <td>63.68</td>\n      <td>61.45</td>\n      <td>501-1000</td>\n      <td>4281</td>\n      <td>1,001-5,000</td>\n      <td>41951</td>\n    </tr>\n    <tr>\n      <th>2</th>\n      <td>85006</td>\n      <td>27206</td>\n      <td>3272</td>\n      <td>35.85</td>\n      <td>54.55</td>\n      <td>Greater Than 1000</td>\n      <td>6780</td>\n      <td>5,001-10,000</td>\n      <td>38121</td>\n    </tr>\n    <tr>\n      <th>3</th>\n      <td>85007</td>\n      <td>14428</td>\n      <td>2424</td>\n      <td>41.44</td>\n      <td>63.91</td>\n      <td>Greater Than 1000</td>\n      <td>4719</td>\n      <td>1,001-5,000</td>\n      <td>34667</td>\n    </tr>\n    <tr>\n      <th>4</th>\n      <td>85008</td>\n      <td>62340</td>\n      <td>9079</td>\n      <td>33.01</td>\n      <td>56.27</td>\n      <td>Greater Than 1000</td>\n      <td>14187</td>\n      <td>Greater Than 10,000</td>\n      <td>43574</td>\n    </tr>\n    <tr>\n      <th>...</th>\n      <td>...</td>\n      <td>...</td>\n      <td>...</td>\n      <td>...</td>\n      <td>...</td>\n      <td>...</td>\n      <td>...</td>\n      <td>...</td>\n      <td>...</td>\n    </tr>\n    <tr>\n      <th>339</th>\n      <td>86444</td>\n      <td>1254</td>\n      <td>60</td>\n      <td>34.27</td>\n      <td>49.25</td>\n      <td>11-100</td>\n      <td>450</td>\n      <td>11-1,000</td>\n      <td>46389</td>\n    </tr>\n    <tr>\n      <th>340</th>\n      <td>86445</td>\n      <td>254</td>\n      <td>12</td>\n      <td>12.73</td>\n      <td>20.45</td>\n      <td>11-100</td>\n      <td>42</td>\n      <td>11-1,000</td>\n      <td>51150</td>\n    </tr>\n    <tr>\n      <th>341</th>\n      <td>86502</td>\n      <td>1095</td>\n      <td>497</td>\n      <td>34.12</td>\n      <td>47.10</td>\n      <td>101-500</td>\n      <td>265</td>\n      <td>11-1,000</td>\n      <td>18542</td>\n    </tr>\n    <tr>\n      <th>342</th>\n      <td>86505</td>\n      <td>8036</td>\n      <td>137</td>\n      <td>12.40</td>\n      <td>36.62</td>\n      <td>101-500</td>\n      <td>54</td>\n      <td>11-1,000</td>\n      <td>23767</td>\n    </tr>\n    <tr>\n      <th>343</th>\n      <td>86511</td>\n      <td>3680</td>\n      <td>1-10</td>\n      <td>0.19</td>\n      <td>0.00</td>\n      <td>1-10</td>\n      <td>1-10</td>\n      <td>1-10</td>\n      <td>29617</td>\n    </tr>\n  </tbody>\n</table>\n<p>344 rows × 9 columns</p>\n</div>"
     },
     "metadata": {},
     "execution_count": 64
    }
   ],
   "source": [
    "# Import cleaned csv\n",
    "csvfile1 = \"Resources/Cleaned_Vaccine_Case_Data.csv\"\n",
    "\n",
    "# Add as DataFrame\n",
    "main_df = pd.read_csv(csvfile1)\n",
    "main_df = main_df.drop(columns=\"Unnamed: 0\")\n",
    "main_df"
   ]
  },
  {
   "cell_type": "code",
   "execution_count": 98,
   "metadata": {},
   "outputs": [
    {
     "output_type": "execute_result",
     "data": {
      "text/plain": [
       "     level_0  index  POSTCODE  Total Population  Total Case Count  \\\n",
       "0          0      0     85003              8499              1534   \n",
       "1          1      1     85004              7164               969   \n",
       "2          2      2     85006             27206              3272   \n",
       "3          3      3     85007             14428              2424   \n",
       "4          4      4     85008             62340              9079   \n",
       "..       ...    ...       ...               ...               ...   \n",
       "315      315    337     86442             33895              4071   \n",
       "316      316    339     86444              1254                60   \n",
       "317      317    340     86445               254                12   \n",
       "318      318    341     86502              1095               497   \n",
       "319      319    342     86505              8036               137   \n",
       "\n",
       "     % Cases Over Age 18  % Cases Over Age 65 Total Cases Category  \\\n",
       "0                  46.20                74.49    Greater Than 1000   \n",
       "1                  63.68                61.45             501-1000   \n",
       "2                  35.85                54.55    Greater Than 1000   \n",
       "3                  41.44                63.91    Greater Than 1000   \n",
       "4                  33.01                56.27    Greater Than 1000   \n",
       "..                   ...                  ...                  ...   \n",
       "315                27.17                48.51    Greater Than 1000   \n",
       "316                34.27                49.25               11-100   \n",
       "317                12.73                20.45               11-100   \n",
       "318                34.12                47.10              101-500   \n",
       "319                12.40                36.62              101-500   \n",
       "\n",
       "     Total Vaccinated Total      Vaccinated Category  Median Household Income  \\\n",
       "0                4898                    1,001-5,000                    44140   \n",
       "1                4281                    1,001-5,000                    41951   \n",
       "2                6780                   5,001-10,000                    38121   \n",
       "3                4719                    1,001-5,000                    34667   \n",
       "4               14187            Greater Than 10,000                    43574   \n",
       "..                ...                            ...                      ...   \n",
       "315              7922                   5,001-10,000                    39600   \n",
       "316               450                       11-1,000                    46389   \n",
       "317                42                       11-1,000                    51150   \n",
       "318               265                       11-1,000                    18542   \n",
       "319                54                       11-1,000                    23767   \n",
       "\n",
       "    Lat Lng  \n",
       "0            \n",
       "1            \n",
       "2            \n",
       "3            \n",
       "4            \n",
       "..   ..  ..  \n",
       "315          \n",
       "316          \n",
       "317          \n",
       "318          \n",
       "319          \n",
       "\n",
       "[320 rows x 13 columns]"
      ],
      "text/html": "<div>\n<style scoped>\n    .dataframe tbody tr th:only-of-type {\n        vertical-align: middle;\n    }\n\n    .dataframe tbody tr th {\n        vertical-align: top;\n    }\n\n    .dataframe thead th {\n        text-align: right;\n    }\n</style>\n<table border=\"1\" class=\"dataframe\">\n  <thead>\n    <tr style=\"text-align: right;\">\n      <th></th>\n      <th>level_0</th>\n      <th>index</th>\n      <th>POSTCODE</th>\n      <th>Total Population</th>\n      <th>Total Case Count</th>\n      <th>% Cases Over Age 18</th>\n      <th>% Cases Over Age 65</th>\n      <th>Total Cases Category</th>\n      <th>Total Vaccinated</th>\n      <th>Total      Vaccinated Category</th>\n      <th>Median Household Income</th>\n      <th>Lat</th>\n      <th>Lng</th>\n    </tr>\n  </thead>\n  <tbody>\n    <tr>\n      <th>0</th>\n      <td>0</td>\n      <td>0</td>\n      <td>85003</td>\n      <td>8499</td>\n      <td>1534</td>\n      <td>46.20</td>\n      <td>74.49</td>\n      <td>Greater Than 1000</td>\n      <td>4898</td>\n      <td>1,001-5,000</td>\n      <td>44140</td>\n      <td></td>\n      <td></td>\n    </tr>\n    <tr>\n      <th>1</th>\n      <td>1</td>\n      <td>1</td>\n      <td>85004</td>\n      <td>7164</td>\n      <td>969</td>\n      <td>63.68</td>\n      <td>61.45</td>\n      <td>501-1000</td>\n      <td>4281</td>\n      <td>1,001-5,000</td>\n      <td>41951</td>\n      <td></td>\n      <td></td>\n    </tr>\n    <tr>\n      <th>2</th>\n      <td>2</td>\n      <td>2</td>\n      <td>85006</td>\n      <td>27206</td>\n      <td>3272</td>\n      <td>35.85</td>\n      <td>54.55</td>\n      <td>Greater Than 1000</td>\n      <td>6780</td>\n      <td>5,001-10,000</td>\n      <td>38121</td>\n      <td></td>\n      <td></td>\n    </tr>\n    <tr>\n      <th>3</th>\n      <td>3</td>\n      <td>3</td>\n      <td>85007</td>\n      <td>14428</td>\n      <td>2424</td>\n      <td>41.44</td>\n      <td>63.91</td>\n      <td>Greater Than 1000</td>\n      <td>4719</td>\n      <td>1,001-5,000</td>\n      <td>34667</td>\n      <td></td>\n      <td></td>\n    </tr>\n    <tr>\n      <th>4</th>\n      <td>4</td>\n      <td>4</td>\n      <td>85008</td>\n      <td>62340</td>\n      <td>9079</td>\n      <td>33.01</td>\n      <td>56.27</td>\n      <td>Greater Than 1000</td>\n      <td>14187</td>\n      <td>Greater Than 10,000</td>\n      <td>43574</td>\n      <td></td>\n      <td></td>\n    </tr>\n    <tr>\n      <th>...</th>\n      <td>...</td>\n      <td>...</td>\n      <td>...</td>\n      <td>...</td>\n      <td>...</td>\n      <td>...</td>\n      <td>...</td>\n      <td>...</td>\n      <td>...</td>\n      <td>...</td>\n      <td>...</td>\n      <td>...</td>\n      <td>...</td>\n    </tr>\n    <tr>\n      <th>315</th>\n      <td>315</td>\n      <td>337</td>\n      <td>86442</td>\n      <td>33895</td>\n      <td>4071</td>\n      <td>27.17</td>\n      <td>48.51</td>\n      <td>Greater Than 1000</td>\n      <td>7922</td>\n      <td>5,001-10,000</td>\n      <td>39600</td>\n      <td></td>\n      <td></td>\n    </tr>\n    <tr>\n      <th>316</th>\n      <td>316</td>\n      <td>339</td>\n      <td>86444</td>\n      <td>1254</td>\n      <td>60</td>\n      <td>34.27</td>\n      <td>49.25</td>\n      <td>11-100</td>\n      <td>450</td>\n      <td>11-1,000</td>\n      <td>46389</td>\n      <td></td>\n      <td></td>\n    </tr>\n    <tr>\n      <th>317</th>\n      <td>317</td>\n      <td>340</td>\n      <td>86445</td>\n      <td>254</td>\n      <td>12</td>\n      <td>12.73</td>\n      <td>20.45</td>\n      <td>11-100</td>\n      <td>42</td>\n      <td>11-1,000</td>\n      <td>51150</td>\n      <td></td>\n      <td></td>\n    </tr>\n    <tr>\n      <th>318</th>\n      <td>318</td>\n      <td>341</td>\n      <td>86502</td>\n      <td>1095</td>\n      <td>497</td>\n      <td>34.12</td>\n      <td>47.10</td>\n      <td>101-500</td>\n      <td>265</td>\n      <td>11-1,000</td>\n      <td>18542</td>\n      <td></td>\n      <td></td>\n    </tr>\n    <tr>\n      <th>319</th>\n      <td>319</td>\n      <td>342</td>\n      <td>86505</td>\n      <td>8036</td>\n      <td>137</td>\n      <td>12.40</td>\n      <td>36.62</td>\n      <td>101-500</td>\n      <td>54</td>\n      <td>11-1,000</td>\n      <td>23767</td>\n      <td></td>\n      <td></td>\n    </tr>\n  </tbody>\n</table>\n<p>320 rows × 13 columns</p>\n</div>"
     },
     "metadata": {},
     "execution_count": 98
    }
   ],
   "source": [
    "# Minor cleaning of dataframe\n",
    "main_df = main_df.loc[main_df[\"Total Case Count\"] != \"1-10\", :]\n",
    "main_df = main_df.loc[main_df[\"Total Vaccinated\"] != \"1-10\", :]\n",
    "main_df = main_df.loc[main_df[\"Median Household Income\"] != \"-\", :]\n",
    "main_df = main_df.loc[main_df[\"Total Population\"] != \"1-10\", :]\n",
    "main_df = main_df.loc[main_df[\"Total Population\"] != \"0\", :]\n",
    "# Creating new columns to hold general lat-lng of the zipcodes\n",
    "main_df[\"Lat\"] = \" \"\n",
    "main_df[\"Lng\"] = \" \"\n",
    "# Converting numeric values back to int datatype\n",
    "main_df['Total Population'] = main_df['Total Population'].astype(int)\n",
    "main_df['Total Case Count'] = main_df['Total Case Count'].astype(int)\n",
    "main_df['Total Vaccinated'] = main_df['Total Vaccinated'].astype(int)\n",
    "main_df['Median Household Income'] = main_df['Median Household Income'].astype(int)\n",
    "# Show main_df\n",
    "main_df"
   ]
  },
  {
   "cell_type": "code",
   "execution_count": 73,
   "metadata": {},
   "outputs": [
    {
     "output_type": "execute_result",
     "data": {
      "text/plain": [
       "   POSTCODE  Total Population  Total Case Count  % Cases Over Age 18  \\\n",
       "0     85003              8499              1534                46.20   \n",
       "1     85004              7164               969                63.68   \n",
       "2     85006             27206              3272                35.85   \n",
       "3     85007             14428              2424                41.44   \n",
       "4     85008             62340              9079                33.01   \n",
       "\n",
       "   % Cases Over Age 65 Total Cases Category  Total Vaccinated  \\\n",
       "0                74.49    Greater Than 1000              4898   \n",
       "1                61.45             501-1000              4281   \n",
       "2                54.55    Greater Than 1000              6780   \n",
       "3                63.91    Greater Than 1000              4719   \n",
       "4                56.27    Greater Than 1000             14187   \n",
       "\n",
       "  Total      Vaccinated Category  Median Household Income      Lat      Lng  \n",
       "0                    1,001-5,000                    44140  33.4496 -112.079  \n",
       "1                    1,001-5,000                    41951  33.4528 -112.069  \n",
       "2                   5,001-10,000                    38121  33.4636 -112.054  \n",
       "3                    1,001-5,000                    34667  33.4463 -112.089  \n",
       "4            Greater Than 10,000                    43574   33.466 -112.012  "
      ],
      "text/html": "<div>\n<style scoped>\n    .dataframe tbody tr th:only-of-type {\n        vertical-align: middle;\n    }\n\n    .dataframe tbody tr th {\n        vertical-align: top;\n    }\n\n    .dataframe thead th {\n        text-align: right;\n    }\n</style>\n<table border=\"1\" class=\"dataframe\">\n  <thead>\n    <tr style=\"text-align: right;\">\n      <th></th>\n      <th>POSTCODE</th>\n      <th>Total Population</th>\n      <th>Total Case Count</th>\n      <th>% Cases Over Age 18</th>\n      <th>% Cases Over Age 65</th>\n      <th>Total Cases Category</th>\n      <th>Total Vaccinated</th>\n      <th>Total      Vaccinated Category</th>\n      <th>Median Household Income</th>\n      <th>Lat</th>\n      <th>Lng</th>\n    </tr>\n  </thead>\n  <tbody>\n    <tr>\n      <th>0</th>\n      <td>85003</td>\n      <td>8499</td>\n      <td>1534</td>\n      <td>46.20</td>\n      <td>74.49</td>\n      <td>Greater Than 1000</td>\n      <td>4898</td>\n      <td>1,001-5,000</td>\n      <td>44140</td>\n      <td>33.4496</td>\n      <td>-112.079</td>\n    </tr>\n    <tr>\n      <th>1</th>\n      <td>85004</td>\n      <td>7164</td>\n      <td>969</td>\n      <td>63.68</td>\n      <td>61.45</td>\n      <td>501-1000</td>\n      <td>4281</td>\n      <td>1,001-5,000</td>\n      <td>41951</td>\n      <td>33.4528</td>\n      <td>-112.069</td>\n    </tr>\n    <tr>\n      <th>2</th>\n      <td>85006</td>\n      <td>27206</td>\n      <td>3272</td>\n      <td>35.85</td>\n      <td>54.55</td>\n      <td>Greater Than 1000</td>\n      <td>6780</td>\n      <td>5,001-10,000</td>\n      <td>38121</td>\n      <td>33.4636</td>\n      <td>-112.054</td>\n    </tr>\n    <tr>\n      <th>3</th>\n      <td>85007</td>\n      <td>14428</td>\n      <td>2424</td>\n      <td>41.44</td>\n      <td>63.91</td>\n      <td>Greater Than 1000</td>\n      <td>4719</td>\n      <td>1,001-5,000</td>\n      <td>34667</td>\n      <td>33.4463</td>\n      <td>-112.089</td>\n    </tr>\n    <tr>\n      <th>4</th>\n      <td>85008</td>\n      <td>62340</td>\n      <td>9079</td>\n      <td>33.01</td>\n      <td>56.27</td>\n      <td>Greater Than 1000</td>\n      <td>14187</td>\n      <td>Greater Than 10,000</td>\n      <td>43574</td>\n      <td>33.466</td>\n      <td>-112.012</td>\n    </tr>\n  </tbody>\n</table>\n</div>"
     },
     "metadata": {},
     "execution_count": 73
    }
   ],
   "source": [
    "# Query URL\r\n",
    "query_url = \"https://maps.googleapis.com/maps/api/geocode/json?\"\r\n",
    "\r\n",
    "# FOR loop for looping and adding lat-lng for the zipcodes\r\n",
    "for index, zips in main_df.iterrows():\r\n",
    "    params = {\r\n",
    "        \"key\": gkey,\r\n",
    "        \"address\": zips[\"POSTCODE\"],\r\n",
    "    }\r\n",
    "    response = requests.get(query_url, params = params).json()\r\n",
    "    \r\n",
    "    try:\r\n",
    "        main_df.loc[index, \"Lat\"] = response[\"results\"][0][\"geometry\"][\"location\"][\"lat\"]\r\n",
    "        main_df.loc[index, \"Lng\"] = response[\"results\"][0][\"geometry\"][\"location\"][\"lng\"]\r\n",
    "    except (KeyError, IndexError):\r\n",
    "        print(f\"An error occurred with this zipcode. Skipping...\")\r\n",
    "\r\n",
    "main_df.head()   "
   ]
  },
  {
   "cell_type": "code",
   "execution_count": 105,
   "metadata": {},
   "outputs": [
    {
     "output_type": "stream",
     "name": "stdout",
     "text": [
      "0\n",
      "ipykernel_launcher:5: RuntimeWarning: divide by zero encountered in longlong_scalars\n"
     ]
    }
   ],
   "source": [
    "# Setting up basemap and adding heatmap layer for Case Count vs Population in Zipcodes\n",
    "# Grabbing Locations\n",
    "locations = [(main_df.iloc[i, -2], main_df.iloc[i, -1]) for i in main_df.index]\n",
    "# Setting weights (Case Count vs Population)\n",
    "weights = [(main_df.iloc[i, 2] / main_df.iloc[i, 1] * 100) for i in main_df.index]\n",
    "# Configure GMaps\n",
    "'''\n",
    "gmaps.configure(api_key=gkey)\n",
    "fig = gmaps.figure(map_type='ROADMAP', zoom_level=5, center=(34.0489, 111.0937))\n",
    "heatmap_layer = gmaps.heatmap_layer(locations, weights=weights)\n",
    "fig.add_layer(heatmap_layer)\n",
    "fig\n",
    "'''\n",
    "for i in range(len(main_df.index)):\n",
    "    if main_df.iloc[i, 1] == 0:\n",
    "        print(main_df.iloc[i, 0])"
   ]
  },
  {
   "cell_type": "code",
   "execution_count": null,
   "metadata": {},
   "outputs": [],
   "source": []
  }
 ]
}