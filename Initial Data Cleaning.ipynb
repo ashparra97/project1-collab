{
 "metadata": {
  "language_info": {
   "codemirror_mode": {
    "name": "ipython",
    "version": 3
   },
   "file_extension": ".py",
   "mimetype": "text/x-python",
   "name": "python",
   "nbconvert_exporter": "python",
   "pygments_lexer": "ipython3",
   "version": "3.7.9"
  },
  "orig_nbformat": 2,
  "kernelspec": {
   "name": "python3",
   "display_name": "Python 3.7.9 64-bit ('PythonData': conda)",
   "metadata": {
    "interpreter": {
     "hash": "09b9fd081e3d0d3e582ec8770b3e1541d577f0aa57c748b8ddd47553873ffc88"
    }
   }
  }
 },
 "nbformat": 4,
 "nbformat_minor": 2,
 "cells": [
  {
   "cell_type": "code",

   "execution_count": 1,

   "metadata": {},
   "outputs": [],
   "source": [
    "# Import Depedencies \n",
    "import pandas as pd "
   ]
  },
  {
   "cell_type": "code",

   "execution_count": 34,

   "metadata": {},
   "outputs": [
    {
     "output_type": "execute_result",
     "data": {
      "text/plain": [
       "  POSTCODE Median Household Income\n",
       "0    85003                   44140\n",
       "1    85004                   41951\n",
       "2    85006                   38121\n",
       "3    85007                   34667\n",
       "4    85008                   43574"
      ],
      "text/html": "<div>\n<style scoped>\n    .dataframe tbody tr th:only-of-type {\n        vertical-align: middle;\n    }\n\n    .dataframe tbody tr th {\n        vertical-align: top;\n    }\n\n    .dataframe thead th {\n        text-align: right;\n    }\n</style>\n<table border=\"1\" class=\"dataframe\">\n  <thead>\n    <tr style=\"text-align: right;\">\n      <th></th>\n      <th>POSTCODE</th>\n      <th>Median Household Income</th>\n    </tr>\n  </thead>\n  <tbody>\n    <tr>\n      <th>0</th>\n      <td>85003</td>\n      <td>44140</td>\n    </tr>\n    <tr>\n      <th>1</th>\n      <td>85004</td>\n      <td>41951</td>\n    </tr>\n    <tr>\n      <th>2</th>\n      <td>85006</td>\n      <td>38121</td>\n    </tr>\n    <tr>\n      <th>3</th>\n      <td>85007</td>\n      <td>34667</td>\n    </tr>\n    <tr>\n      <th>4</th>\n      <td>85008</td>\n      <td>43574</td>\n    </tr>\n  </tbody>\n</table>\n</div>"
     },
     "metadata": {},

     "execution_count": 34

    }
   ],
   "source": [
    "# Determine CSV paths for each  \n",
    "\n",
    "#COVID Cases by Zipcode \n",
    "csvfile1 = \"Resources/AZ_Covid Cases.csv\"\n",
    "\n",
    "#COVID Vaccination Rates by Zipcode\n",
    "csvfile2 = \"Resources/AZ_Vac_Count_Rate.csv\"\n",
    "\n",
    "# Median Income by Zipcode \n",
    "csvfile3 = \"Resources/Income_ZipCode.csv\"\n",
    "\n",
    "cases_df = pd.read_csv(csvfile1)\n",
    "vacc_df = pd.read_csv(csvfile2)\n",
    "income_df = pd.read_csv(csvfile3)\n",
    "income_df['POSTCODE'] = income_df['POSTCODE'].astype(str)\n",
    "income_df.head()\n",
    "#type(income_df['POSTCODE'][0])\n"
   ]
  },
  {
   "cell_type": "code",

   "execution_count": 35,

   "metadata": {},
   "outputs": [
    {
     "output_type": "execute_result",
     "data": {
      "text/plain": [

       "  POSTCODE ConfirmedCaseCategory ConfirmedCaseCount  Unnamed: 0 percentOver18  \\\n",
       "0    85003     Greater Than 1000               1534           0          46.2   \n",
       "1    85004              501-1000                969           1         63.68   \n",
       "2    85006     Greater Than 1000               3272           2         35.85   \n",
       "3    85007     Greater Than 1000               2424           3         41.44   \n",
       "4    85008     Greater Than 1000               9079           4         33.01   \n",
       "\n",
       "  CategoryOver18 PercentOver65 CategoryOver65 NumberOfPeopleVaccinated  \\\n",
       "0          26-55         74.49          56-75                     4898   \n",
       "1          56-75         61.45          56-75                     4281   \n",
       "2          26-55         54.55          26-55                     6780   \n",
       "3          26-55         63.91          56-75                     4719   \n",
       "4          26-55         56.27          56-75                    14187   \n",
       "\n",
       "  NumberOfPeopleVaccinatedCategory Median Household Income  \n",
       "0                      1,001-5,000                   44140  \n",
       "1                      1,001-5,000                   41951  \n",
       "2                     5,001-10,000                   38121  \n",
       "3                      1,001-5,000                   34667  \n",
       "4              Greater Than 10,000                   43574  "
      ],
      "text/html": "<div>\n<style scoped>\n    .dataframe tbody tr th:only-of-type {\n        vertical-align: middle;\n    }\n\n    .dataframe tbody tr th {\n        vertical-align: top;\n    }\n\n    .dataframe thead th {\n        text-align: right;\n    }\n</style>\n<table border=\"1\" class=\"dataframe\">\n  <thead>\n    <tr style=\"text-align: right;\">\n      <th></th>\n      <th>POSTCODE</th>\n      <th>ConfirmedCaseCategory</th>\n      <th>ConfirmedCaseCount</th>\n      <th>Unnamed: 0</th>\n      <th>percentOver18</th>\n      <th>CategoryOver18</th>\n      <th>PercentOver65</th>\n      <th>CategoryOver65</th>\n      <th>NumberOfPeopleVaccinated</th>\n      <th>NumberOfPeopleVaccinatedCategory</th>\n      <th>Median Household Income</th>\n    </tr>\n  </thead>\n  <tbody>\n    <tr>\n      <th>0</th>\n      <td>85003</td>\n      <td>Greater Than 1000</td>\n      <td>1534</td>\n      <td>0</td>\n      <td>46.2</td>\n      <td>26-55</td>\n      <td>74.49</td>\n      <td>56-75</td>\n      <td>4898</td>\n      <td>1,001-5,000</td>\n      <td>44140</td>\n    </tr>\n    <tr>\n      <th>1</th>\n      <td>85004</td>\n      <td>501-1000</td>\n      <td>969</td>\n      <td>1</td>\n      <td>63.68</td>\n      <td>56-75</td>\n      <td>61.45</td>\n      <td>56-75</td>\n      <td>4281</td>\n      <td>1,001-5,000</td>\n      <td>41951</td>\n    </tr>\n    <tr>\n      <th>2</th>\n      <td>85006</td>\n      <td>Greater Than 1000</td>\n      <td>3272</td>\n      <td>2</td>\n      <td>35.85</td>\n      <td>26-55</td>\n      <td>54.55</td>\n      <td>26-55</td>\n      <td>6780</td>\n      <td>5,001-10,000</td>\n      <td>38121</td>\n    </tr>\n    <tr>\n      <th>3</th>\n      <td>85007</td>\n      <td>Greater Than 1000</td>\n      <td>2424</td>\n      <td>3</td>\n      <td>41.44</td>\n      <td>26-55</td>\n      <td>63.91</td>\n      <td>56-75</td>\n      <td>4719</td>\n      <td>1,001-5,000</td>\n      <td>34667</td>\n    </tr>\n    <tr>\n      <th>4</th>\n      <td>85008</td>\n      <td>Greater Than 1000</td>\n      <td>9079</td>\n      <td>4</td>\n      <td>33.01</td>\n      <td>26-55</td>\n      <td>56.27</td>\n      <td>56-75</td>\n      <td>14187</td>\n      <td>Greater Than 10,000</td>\n      <td>43574</td>\n    </tr>\n  </tbody>\n</table>\n</div>"
     },
     "metadata": {},
     "execution_count": 35
    }
   ],
   "source": [
    "# Merge dataframes \n",
    "merged_df = pd.merge(pd.merge(cases_df, vacc_df, on='POSTCODE'), income_df, on='POSTCODE') \n",
    "merged_df.head()"

   ]
  }
 ]
}