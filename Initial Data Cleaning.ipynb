{
 "metadata": {
  "language_info": {
   "codemirror_mode": {
    "name": "ipython",
    "version": 3
   },
   "file_extension": ".py",
   "mimetype": "text/x-python",
   "name": "python",
   "nbconvert_exporter": "python",
   "pygments_lexer": "ipython3",
   "version": "3.8.5"
  },
  "orig_nbformat": 2,
  "kernelspec": {
   "name": "python385jvsc74a57bd0dca0ade3e726a953b501b15e8e990130d2b7799f14cfd9f4271676035ebe5511",
   "display_name": "Python 3.8.5 64-bit ('base': conda)"
  }
 },
 "nbformat": 4,
 "nbformat_minor": 2,
 "cells": [
  {
   "cell_type": "code",
   "execution_count": null,
   "metadata": {},
   "outputs": [],
   "source": [
    "# Import Depedencies \n",
    "import pandas as pd "
   ]
  },
  {
   "cell_type": "code",
   "execution_count": 6,
   "metadata": {},
   "outputs": [
    {
     "output_type": "stream",
     "name": "stdout",
     "text": [
      "  POSTCODE ConfirmedCaseCategory ConfirmedCaseCount\n0    85003     Greater Than 1000               1534\n1    85004              501-1000                969\n2    85006     Greater Than 1000               3272\n3    85007     Greater Than 1000               2424\n4    85008     Greater Than 1000               9079\n   Unnamed: 0 POSTCODE percentOver18 CategoryOver18 PercentOver65  \\\n0           0    85003          46.2          26-55         74.49   \n1           1    85004         63.68          56-75         61.45   \n2           2    85006         35.85          26-55         54.55   \n3           3    85007         41.44          26-55         63.91   \n4           4    85008         33.01          26-55         56.27   \n\n  CategoryOver65 NumberOfPeopleVaccinated NumberOfPeopleVaccinatedCategory  \n0          56-75                     4898                      1,001-5,000  \n1          56-75                     4281                      1,001-5,000  \n2          26-55                     6780                     5,001-10,000  \n3          56-75                     4719                      1,001-5,000  \n4          56-75                    14187              Greater Than 10,000  \n   POSTCODE Median Household Income\n0     85003                   44140\n1     85004                   41951\n2     85006                   38121\n3     85007                   34667\n4     85008                   43574\n"
     ]
    }
   ],
   "source": [
    "# Determine CSV paths for each  \n",
    "\n",
    "#COVID Cases by Zipcode \n",
    "csvfile1 = \"/Users/ashleypatricia/Documents/GitHub/project1-collab/Resources/AZ_Covid Cases.csv\"\n",
    "\n",
    "#COVID Vaccination Rates by Zipcode\n",
    "csvfile2 = \"/Users/ashleypatricia/Documents/GitHub/project1-collab/Resources/AZ_Vac_Count_Rate.csv\"\n",
    "\n",
    "# Median Income by Zipcode \n",
    "csvfile3 = \"/Users/ashleypatricia/Documents/GitHub/project1-collab/Resources/Income_ZipCode.csv\"\n",
    "\n",
    "cases_df = pd.read_csv(csvfile1)\n",
    "vacc_df = pd.read_csv(csvfile2)\n",
    "income_df = pd.read_csv(csvfile3)\n",
    "print(cases_df.head())\n",
    "print(vacc_df.head())\n",
    "print(income_df.head())\n"
   ]
  },
  {
   "cell_type": "code",
   "execution_count": null,
   "metadata": {},
   "outputs": [],
   "source": [
    "# Merge dataframes \n"
   ]
  },
  {
   "cell_type": "code",
   "execution_count": null,
   "metadata": {},
   "outputs": [],
   "source": []
  }
 ]
}