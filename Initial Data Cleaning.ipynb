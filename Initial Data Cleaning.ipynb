{
 "metadata": {
  "language_info": {
   "codemirror_mode": {
    "name": "ipython",
    "version": 3
   },
   "file_extension": ".py",
   "mimetype": "text/x-python",
   "name": "python",
   "nbconvert_exporter": "python",
   "pygments_lexer": "ipython3",
   "version": "3.7.9"
  },
  "orig_nbformat": 2,
  "kernelspec": {
   "name": "python3",
   "display_name": "Python 3.7.9 64-bit ('PythonData': conda)",
   "metadata": {
    "interpreter": {
     "hash": "09b9fd081e3d0d3e582ec8770b3e1541d577f0aa57c748b8ddd47553873ffc88"
    }
   }
  }
 },
 "nbformat": 4,
 "nbformat_minor": 2,
 "cells": [
  {
   "cell_type": "code",
   "execution_count": 1,
   "metadata": {},
   "outputs": [],
   "source": [
    "# Import Depedencies \n",
    "import pandas as pd "
   ]
  },
  {
   "cell_type": "code",
   "execution_count": 73,
   "metadata": {},
   "outputs": [
    {
     "output_type": "execute_result",
     "data": {
      "text/plain": [
       "  POSTCODE  TotalPopulation\n",
       "0    85003             8499\n",
       "1    85004             7164\n",
       "2    85006            27206\n",
       "3    85007            14428\n",
       "4    85008            62340"
      ],
      "text/html": "<div>\n<style scoped>\n    .dataframe tbody tr th:only-of-type {\n        vertical-align: middle;\n    }\n\n    .dataframe tbody tr th {\n        vertical-align: top;\n    }\n\n    .dataframe thead th {\n        text-align: right;\n    }\n</style>\n<table border=\"1\" class=\"dataframe\">\n  <thead>\n    <tr style=\"text-align: right;\">\n      <th></th>\n      <th>POSTCODE</th>\n      <th>TotalPopulation</th>\n    </tr>\n  </thead>\n  <tbody>\n    <tr>\n      <th>0</th>\n      <td>85003</td>\n      <td>8499</td>\n    </tr>\n    <tr>\n      <th>1</th>\n      <td>85004</td>\n      <td>7164</td>\n    </tr>\n    <tr>\n      <th>2</th>\n      <td>85006</td>\n      <td>27206</td>\n    </tr>\n    <tr>\n      <th>3</th>\n      <td>85007</td>\n      <td>14428</td>\n    </tr>\n    <tr>\n      <th>4</th>\n      <td>85008</td>\n      <td>62340</td>\n    </tr>\n  </tbody>\n</table>\n</div>"
     },
     "metadata": {},
     "execution_count": 73
    }
   ],
   "source": [
    "# Determine CSV paths for each  \n",
    "\n",
    "#COVID Cases by Zipcode \n",
    "csvfile1 = \"Resources/AZ_Covid Cases.csv\"\n",
    "\n",
    "#COVID Vaccination Rates by Zipcode\n",
    "csvfile2 = \"Resources/AZ_Vac_Count_Rate.csv\"\n",
    "\n",
    "# Median Income by Zipcode \n",
    "csvfile3 = \"Resources/Income_ZipCode.csv\"\n",
    "\n",
    "# Population by Zipcode \n",
    "csvfile4 = \"Resources/Population_zipcode.csv\"\n",
    "\n",
    "cases_df = pd.read_csv(csvfile1)\n",
    "vacc_df = pd.read_csv(csvfile2)\n",
    "income_df = pd.read_csv(csvfile3)\n",
    "income_df['POSTCODE'] = income_df['POSTCODE'].astype(str)\n",
    "population_df = pd.read_csv(csvfile4)\n",
    "population_df['POSTCODE'] = population_df['POSTCODE'].astype(str)\n",
    "population_df.head()\n",
    "\n"
   ]
  },
  {
   "cell_type": "code",
   "execution_count": 74,
   "metadata": {},
   "outputs": [
    {
     "output_type": "execute_result",
     "data": {
      "text/plain": [
       "  POSTCODE ConfirmedCaseCategory ConfirmedCaseCount  Unnamed: 0 percentOver18  \\\n",
       "0    85003     Greater Than 1000               1534           0          46.2   \n",
       "1    85004              501-1000                969           1         63.68   \n",
       "2    85006     Greater Than 1000               3272           2         35.85   \n",
       "3    85007     Greater Than 1000               2424           3         41.44   \n",
       "4    85008     Greater Than 1000               9079           4         33.01   \n",
       "\n",
       "  CategoryOver18 PercentOver65 CategoryOver65 NumberOfPeopleVaccinated  \\\n",
       "0          26-55         74.49          56-75                     4898   \n",
       "1          56-75         61.45          56-75                     4281   \n",
       "2          26-55         54.55          26-55                     6780   \n",
       "3          26-55         63.91          56-75                     4719   \n",
       "4          26-55         56.27          56-75                    14187   \n",
       "\n",
       "  NumberOfPeopleVaccinatedCategory Median Household Income  TotalPopulation  \n",
       "0                      1,001-5,000                   44140             8499  \n",
       "1                      1,001-5,000                   41951             7164  \n",
       "2                     5,001-10,000                   38121            27206  \n",
       "3                      1,001-5,000                   34667            14428  \n",
       "4              Greater Than 10,000                   43574            62340  "
      ],
      "text/html": "<div>\n<style scoped>\n    .dataframe tbody tr th:only-of-type {\n        vertical-align: middle;\n    }\n\n    .dataframe tbody tr th {\n        vertical-align: top;\n    }\n\n    .dataframe thead th {\n        text-align: right;\n    }\n</style>\n<table border=\"1\" class=\"dataframe\">\n  <thead>\n    <tr style=\"text-align: right;\">\n      <th></th>\n      <th>POSTCODE</th>\n      <th>ConfirmedCaseCategory</th>\n      <th>ConfirmedCaseCount</th>\n      <th>Unnamed: 0</th>\n      <th>percentOver18</th>\n      <th>CategoryOver18</th>\n      <th>PercentOver65</th>\n      <th>CategoryOver65</th>\n      <th>NumberOfPeopleVaccinated</th>\n      <th>NumberOfPeopleVaccinatedCategory</th>\n      <th>Median Household Income</th>\n      <th>TotalPopulation</th>\n    </tr>\n  </thead>\n  <tbody>\n    <tr>\n      <th>0</th>\n      <td>85003</td>\n      <td>Greater Than 1000</td>\n      <td>1534</td>\n      <td>0</td>\n      <td>46.2</td>\n      <td>26-55</td>\n      <td>74.49</td>\n      <td>56-75</td>\n      <td>4898</td>\n      <td>1,001-5,000</td>\n      <td>44140</td>\n      <td>8499</td>\n    </tr>\n    <tr>\n      <th>1</th>\n      <td>85004</td>\n      <td>501-1000</td>\n      <td>969</td>\n      <td>1</td>\n      <td>63.68</td>\n      <td>56-75</td>\n      <td>61.45</td>\n      <td>56-75</td>\n      <td>4281</td>\n      <td>1,001-5,000</td>\n      <td>41951</td>\n      <td>7164</td>\n    </tr>\n    <tr>\n      <th>2</th>\n      <td>85006</td>\n      <td>Greater Than 1000</td>\n      <td>3272</td>\n      <td>2</td>\n      <td>35.85</td>\n      <td>26-55</td>\n      <td>54.55</td>\n      <td>26-55</td>\n      <td>6780</td>\n      <td>5,001-10,000</td>\n      <td>38121</td>\n      <td>27206</td>\n    </tr>\n    <tr>\n      <th>3</th>\n      <td>85007</td>\n      <td>Greater Than 1000</td>\n      <td>2424</td>\n      <td>3</td>\n      <td>41.44</td>\n      <td>26-55</td>\n      <td>63.91</td>\n      <td>56-75</td>\n      <td>4719</td>\n      <td>1,001-5,000</td>\n      <td>34667</td>\n      <td>14428</td>\n    </tr>\n    <tr>\n      <th>4</th>\n      <td>85008</td>\n      <td>Greater Than 1000</td>\n      <td>9079</td>\n      <td>4</td>\n      <td>33.01</td>\n      <td>26-55</td>\n      <td>56.27</td>\n      <td>56-75</td>\n      <td>14187</td>\n      <td>Greater Than 10,000</td>\n      <td>43574</td>\n      <td>62340</td>\n    </tr>\n  </tbody>\n</table>\n</div>"
     },
     "metadata": {},
     "execution_count": 74
    }
   ],
   "source": [
    "# Merge dataframes \n",
    "merged_df = pd.merge(pd.merge(cases_df, vacc_df, on='POSTCODE'), income_df, on='POSTCODE') \n",
    "merged_df = pd.merge(merged_df, population_df, on='POSTCODE')\n",
    "merged_df.head()"
   ]
  },
  {
   "cell_type": "code",
   "execution_count": 75,
   "metadata": {},
   "outputs": [
    {
     "output_type": "execute_result",
     "data": {
      "text/plain": [
       "    POSTCODE ConfirmedCaseCategory ConfirmedCaseCount percentOver18  \\\n",
       "0      85003     Greater Than 1000               1534          46.2   \n",
       "1      85004              501-1000                969         63.68   \n",
       "2      85006     Greater Than 1000               3272         35.85   \n",
       "3      85007     Greater Than 1000               2424         41.44   \n",
       "4      85008     Greater Than 1000               9079         33.01   \n",
       "..       ...                   ...                ...           ...   \n",
       "364    86505               101-500                137          12.4   \n",
       "365    86507                     0                  0           NaN   \n",
       "366    86511                  1-10               1-10          0.19   \n",
       "367    86514                     0                  0           NaN   \n",
       "368    86515                     0                  0             0   \n",
       "\n",
       "    CategoryOver18 PercentOver65 CategoryOver65 NumberOfPeopleVaccinated  \\\n",
       "0            26-55         74.49          56-75                     4898   \n",
       "1            56-75         61.45          56-75                     4281   \n",
       "2            26-55         54.55          26-55                     6780   \n",
       "3            26-55         63.91          56-75                     4719   \n",
       "4            26-55         56.27          56-75                    14187   \n",
       "..             ...           ...            ...                      ...   \n",
       "364          11-25         36.62          26-55                       54   \n",
       "365              0           NaN              0                        0   \n",
       "366           1-10             0              0                     1-10   \n",
       "367              0           NaN              0                        0   \n",
       "368              0             0              0                        0   \n",
       "\n",
       "    NumberOfPeopleVaccinatedCategory Median Household Income  TotalPopulation  \n",
       "0                        1,001-5,000                   44140             8499  \n",
       "1                        1,001-5,000                   41951             7164  \n",
       "2                       5,001-10,000                   38121            27206  \n",
       "3                        1,001-5,000                   34667            14428  \n",
       "4                Greater Than 10,000                   43574            62340  \n",
       "..                               ...                     ...              ...  \n",
       "364                         11-1,000                   23767             8036  \n",
       "365                                0                   22885             2323  \n",
       "366                             1-10                   29617             3680  \n",
       "367                                0                   27600             3258  \n",
       "368                                0                   30196             4251  \n",
       "\n",
       "[369 rows x 11 columns]"
      ],
      "text/html": "<div>\n<style scoped>\n    .dataframe tbody tr th:only-of-type {\n        vertical-align: middle;\n    }\n\n    .dataframe tbody tr th {\n        vertical-align: top;\n    }\n\n    .dataframe thead th {\n        text-align: right;\n    }\n</style>\n<table border=\"1\" class=\"dataframe\">\n  <thead>\n    <tr style=\"text-align: right;\">\n      <th></th>\n      <th>POSTCODE</th>\n      <th>ConfirmedCaseCategory</th>\n      <th>ConfirmedCaseCount</th>\n      <th>percentOver18</th>\n      <th>CategoryOver18</th>\n      <th>PercentOver65</th>\n      <th>CategoryOver65</th>\n      <th>NumberOfPeopleVaccinated</th>\n      <th>NumberOfPeopleVaccinatedCategory</th>\n      <th>Median Household Income</th>\n      <th>TotalPopulation</th>\n    </tr>\n  </thead>\n  <tbody>\n    <tr>\n      <th>0</th>\n      <td>85003</td>\n      <td>Greater Than 1000</td>\n      <td>1534</td>\n      <td>46.2</td>\n      <td>26-55</td>\n      <td>74.49</td>\n      <td>56-75</td>\n      <td>4898</td>\n      <td>1,001-5,000</td>\n      <td>44140</td>\n      <td>8499</td>\n    </tr>\n    <tr>\n      <th>1</th>\n      <td>85004</td>\n      <td>501-1000</td>\n      <td>969</td>\n      <td>63.68</td>\n      <td>56-75</td>\n      <td>61.45</td>\n      <td>56-75</td>\n      <td>4281</td>\n      <td>1,001-5,000</td>\n      <td>41951</td>\n      <td>7164</td>\n    </tr>\n    <tr>\n      <th>2</th>\n      <td>85006</td>\n      <td>Greater Than 1000</td>\n      <td>3272</td>\n      <td>35.85</td>\n      <td>26-55</td>\n      <td>54.55</td>\n      <td>26-55</td>\n      <td>6780</td>\n      <td>5,001-10,000</td>\n      <td>38121</td>\n      <td>27206</td>\n    </tr>\n    <tr>\n      <th>3</th>\n      <td>85007</td>\n      <td>Greater Than 1000</td>\n      <td>2424</td>\n      <td>41.44</td>\n      <td>26-55</td>\n      <td>63.91</td>\n      <td>56-75</td>\n      <td>4719</td>\n      <td>1,001-5,000</td>\n      <td>34667</td>\n      <td>14428</td>\n    </tr>\n    <tr>\n      <th>4</th>\n      <td>85008</td>\n      <td>Greater Than 1000</td>\n      <td>9079</td>\n      <td>33.01</td>\n      <td>26-55</td>\n      <td>56.27</td>\n      <td>56-75</td>\n      <td>14187</td>\n      <td>Greater Than 10,000</td>\n      <td>43574</td>\n      <td>62340</td>\n    </tr>\n    <tr>\n      <th>...</th>\n      <td>...</td>\n      <td>...</td>\n      <td>...</td>\n      <td>...</td>\n      <td>...</td>\n      <td>...</td>\n      <td>...</td>\n      <td>...</td>\n      <td>...</td>\n      <td>...</td>\n      <td>...</td>\n    </tr>\n    <tr>\n      <th>364</th>\n      <td>86505</td>\n      <td>101-500</td>\n      <td>137</td>\n      <td>12.4</td>\n      <td>11-25</td>\n      <td>36.62</td>\n      <td>26-55</td>\n      <td>54</td>\n      <td>11-1,000</td>\n      <td>23767</td>\n      <td>8036</td>\n    </tr>\n    <tr>\n      <th>365</th>\n      <td>86507</td>\n      <td>0</td>\n      <td>0</td>\n      <td>NaN</td>\n      <td>0</td>\n      <td>NaN</td>\n      <td>0</td>\n      <td>0</td>\n      <td>0</td>\n      <td>22885</td>\n      <td>2323</td>\n    </tr>\n    <tr>\n      <th>366</th>\n      <td>86511</td>\n      <td>1-10</td>\n      <td>1-10</td>\n      <td>0.19</td>\n      <td>1-10</td>\n      <td>0</td>\n      <td>0</td>\n      <td>1-10</td>\n      <td>1-10</td>\n      <td>29617</td>\n      <td>3680</td>\n    </tr>\n    <tr>\n      <th>367</th>\n      <td>86514</td>\n      <td>0</td>\n      <td>0</td>\n      <td>NaN</td>\n      <td>0</td>\n      <td>NaN</td>\n      <td>0</td>\n      <td>0</td>\n      <td>0</td>\n      <td>27600</td>\n      <td>3258</td>\n    </tr>\n    <tr>\n      <th>368</th>\n      <td>86515</td>\n      <td>0</td>\n      <td>0</td>\n      <td>0</td>\n      <td>0</td>\n      <td>0</td>\n      <td>0</td>\n      <td>0</td>\n      <td>0</td>\n      <td>30196</td>\n      <td>4251</td>\n    </tr>\n  </tbody>\n</table>\n<p>369 rows × 11 columns</p>\n</div>"
     },
     "metadata": {},
     "execution_count": 75
    }
   ],
   "source": [
    "merged_df = merged_df.drop(columns='Unnamed: 0')\n",
    "merged_df"
   ]
  },
  {
   "cell_type": "code",
   "execution_count": 80,
   "metadata": {},
   "outputs": [
    {
     "output_type": "execute_result",
     "data": {
      "text/plain": [
       "    POSTCODE  Total Population Total Case Count % Cases Over Age 18  \\\n",
       "0      85003              8499             1534                46.2   \n",
       "1      85004              7164              969               63.68   \n",
       "2      85006             27206             3272               35.85   \n",
       "3      85007             14428             2424               41.44   \n",
       "4      85008             62340             9079               33.01   \n",
       "..       ...               ...              ...                 ...   \n",
       "360    86444              1254               60               34.27   \n",
       "361    86445               254               12               12.73   \n",
       "362    86502              1095              497               34.12   \n",
       "364    86505              8036              137                12.4   \n",
       "366    86511              3680             1-10                0.19   \n",
       "\n",
       "    % Cases Over Age 65 Total Cases Category Total Vaccinated  \\\n",
       "0                 74.49    Greater Than 1000             4898   \n",
       "1                 61.45             501-1000             4281   \n",
       "2                 54.55    Greater Than 1000             6780   \n",
       "3                 63.91    Greater Than 1000             4719   \n",
       "4                 56.27    Greater Than 1000            14187   \n",
       "..                  ...                  ...              ...   \n",
       "360               49.25               11-100              450   \n",
       "361               20.45               11-100               42   \n",
       "362                47.1              101-500              265   \n",
       "364               36.62              101-500               54   \n",
       "366                   0                 1-10             1-10   \n",
       "\n",
       "    Total      Vaccinated Category Median Household Income  \n",
       "0                      1,001-5,000                   44140  \n",
       "1                      1,001-5,000                   41951  \n",
       "2                     5,001-10,000                   38121  \n",
       "3                      1,001-5,000                   34667  \n",
       "4              Greater Than 10,000                   43574  \n",
       "..                             ...                     ...  \n",
       "360                       11-1,000                   46389  \n",
       "361                       11-1,000                   51150  \n",
       "362                       11-1,000                   18542  \n",
       "364                       11-1,000                   23767  \n",
       "366                           1-10                   29617  \n",
       "\n",
       "[344 rows x 9 columns]"
      ],
      "text/html": "<div>\n<style scoped>\n    .dataframe tbody tr th:only-of-type {\n        vertical-align: middle;\n    }\n\n    .dataframe tbody tr th {\n        vertical-align: top;\n    }\n\n    .dataframe thead th {\n        text-align: right;\n    }\n</style>\n<table border=\"1\" class=\"dataframe\">\n  <thead>\n    <tr style=\"text-align: right;\">\n      <th></th>\n      <th>POSTCODE</th>\n      <th>Total Population</th>\n      <th>Total Case Count</th>\n      <th>% Cases Over Age 18</th>\n      <th>% Cases Over Age 65</th>\n      <th>Total Cases Category</th>\n      <th>Total Vaccinated</th>\n      <th>Total      Vaccinated Category</th>\n      <th>Median Household Income</th>\n    </tr>\n  </thead>\n  <tbody>\n    <tr>\n      <th>0</th>\n      <td>85003</td>\n      <td>8499</td>\n      <td>1534</td>\n      <td>46.2</td>\n      <td>74.49</td>\n      <td>Greater Than 1000</td>\n      <td>4898</td>\n      <td>1,001-5,000</td>\n      <td>44140</td>\n    </tr>\n    <tr>\n      <th>1</th>\n      <td>85004</td>\n      <td>7164</td>\n      <td>969</td>\n      <td>63.68</td>\n      <td>61.45</td>\n      <td>501-1000</td>\n      <td>4281</td>\n      <td>1,001-5,000</td>\n      <td>41951</td>\n    </tr>\n    <tr>\n      <th>2</th>\n      <td>85006</td>\n      <td>27206</td>\n      <td>3272</td>\n      <td>35.85</td>\n      <td>54.55</td>\n      <td>Greater Than 1000</td>\n      <td>6780</td>\n      <td>5,001-10,000</td>\n      <td>38121</td>\n    </tr>\n    <tr>\n      <th>3</th>\n      <td>85007</td>\n      <td>14428</td>\n      <td>2424</td>\n      <td>41.44</td>\n      <td>63.91</td>\n      <td>Greater Than 1000</td>\n      <td>4719</td>\n      <td>1,001-5,000</td>\n      <td>34667</td>\n    </tr>\n    <tr>\n      <th>4</th>\n      <td>85008</td>\n      <td>62340</td>\n      <td>9079</td>\n      <td>33.01</td>\n      <td>56.27</td>\n      <td>Greater Than 1000</td>\n      <td>14187</td>\n      <td>Greater Than 10,000</td>\n      <td>43574</td>\n    </tr>\n    <tr>\n      <th>...</th>\n      <td>...</td>\n      <td>...</td>\n      <td>...</td>\n      <td>...</td>\n      <td>...</td>\n      <td>...</td>\n      <td>...</td>\n      <td>...</td>\n      <td>...</td>\n    </tr>\n    <tr>\n      <th>360</th>\n      <td>86444</td>\n      <td>1254</td>\n      <td>60</td>\n      <td>34.27</td>\n      <td>49.25</td>\n      <td>11-100</td>\n      <td>450</td>\n      <td>11-1,000</td>\n      <td>46389</td>\n    </tr>\n    <tr>\n      <th>361</th>\n      <td>86445</td>\n      <td>254</td>\n      <td>12</td>\n      <td>12.73</td>\n      <td>20.45</td>\n      <td>11-100</td>\n      <td>42</td>\n      <td>11-1,000</td>\n      <td>51150</td>\n    </tr>\n    <tr>\n      <th>362</th>\n      <td>86502</td>\n      <td>1095</td>\n      <td>497</td>\n      <td>34.12</td>\n      <td>47.1</td>\n      <td>101-500</td>\n      <td>265</td>\n      <td>11-1,000</td>\n      <td>18542</td>\n    </tr>\n    <tr>\n      <th>364</th>\n      <td>86505</td>\n      <td>8036</td>\n      <td>137</td>\n      <td>12.4</td>\n      <td>36.62</td>\n      <td>101-500</td>\n      <td>54</td>\n      <td>11-1,000</td>\n      <td>23767</td>\n    </tr>\n    <tr>\n      <th>366</th>\n      <td>86511</td>\n      <td>3680</td>\n      <td>1-10</td>\n      <td>0.19</td>\n      <td>0</td>\n      <td>1-10</td>\n      <td>1-10</td>\n      <td>1-10</td>\n      <td>29617</td>\n    </tr>\n  </tbody>\n</table>\n<p>344 rows × 9 columns</p>\n</div>"
     },
     "metadata": {},
     "execution_count": 80
    }
   ],
   "source": [
    "merged_df = merged_df.dropna()\n",
    "merged_clean_df = merged_df.loc[(merged_df['ConfirmedCaseCount'] != '0') & (merged_df['NumberOfPeopleVaccinated'] != '0')]\n",
    "merged_clean_df = merged_clean_df.rename(columns={'ConfirmedCaseCategory': 'Total Cases Category','ConfirmedCaseCount': 'Total Case Count', 'percentOver18': '% Cases Over Age 18',\n",
    "                                                    'PercentOver65': '% Cases Over Age 65', 'NumberOfPeopleVaccinated': 'Total Vaccinated', 'NumberOfPeopleVaccinatedCategory': 'Total      Vaccinated Category', 'TotalPopulation': 'Total Population'})\n",
    "final_clean_df = merged_clean_df[['POSTCODE', 'Total Population', 'Total Case Count', '% Cases Over Age 18', '% Cases Over Age 65', 'Total Cases Category', 'Total Vaccinated', 'Total      Vaccinated Category', 'Median Household Income']]\n",
    "final_clean_df\n",
    "\n"
   ]
  },
  {
   "cell_type": "code",
   "execution_count": 82,
   "metadata": {},
   "outputs": [],
   "source": [
    "#Export Dataframe to CSV\n",
    "\n",
    "final_clean_df.to_csv('Resources/Cleaned_Vaccine_Case_Data.csv')"
   ]
  }
 ]
}