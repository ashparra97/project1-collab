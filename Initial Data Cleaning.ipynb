{
 "metadata": {
  "language_info": {
   "codemirror_mode": {
    "name": "ipython",
    "version": 3
   },
   "file_extension": ".py",
   "mimetype": "text/x-python",
   "name": "python",
   "nbconvert_exporter": "python",
   "pygments_lexer": "ipython3",
   "version": "3.8.5"
  },
  "orig_nbformat": 2,
  "kernelspec": {
   "name": "python385jvsc74a57bd0dca0ade3e726a953b501b15e8e990130d2b7799f14cfd9f4271676035ebe5511",
   "display_name": "Python 3.8.5 64-bit ('base': conda)"
  }
 },
 "nbformat": 4,
 "nbformat_minor": 2,
 "cells": [
  {
   "cell_type": "code",
   "execution_count": 8,
   "metadata": {},
   "outputs": [],
   "source": [
    "# Import Depedencies \n",
    "import pandas as pd "
   ]
  },
  {
   "cell_type": "code",
   "execution_count": 14,
   "metadata": {},
   "outputs": [
    {
     "output_type": "execute_result",
     "data": {
      "text/plain": [
       "   POSTCODE Median Household Income\n",
       "0     85003                   44140\n",
       "1     85004                   41951\n",
       "2     85006                   38121\n",
       "3     85007                   34667\n",
       "4     85008                   43574"
      ],
      "text/html": "<div>\n<style scoped>\n    .dataframe tbody tr th:only-of-type {\n        vertical-align: middle;\n    }\n\n    .dataframe tbody tr th {\n        vertical-align: top;\n    }\n\n    .dataframe thead th {\n        text-align: right;\n    }\n</style>\n<table border=\"1\" class=\"dataframe\">\n  <thead>\n    <tr style=\"text-align: right;\">\n      <th></th>\n      <th>POSTCODE</th>\n      <th>Median Household Income</th>\n    </tr>\n  </thead>\n  <tbody>\n    <tr>\n      <th>0</th>\n      <td>85003</td>\n      <td>44140</td>\n    </tr>\n    <tr>\n      <th>1</th>\n      <td>85004</td>\n      <td>41951</td>\n    </tr>\n    <tr>\n      <th>2</th>\n      <td>85006</td>\n      <td>38121</td>\n    </tr>\n    <tr>\n      <th>3</th>\n      <td>85007</td>\n      <td>34667</td>\n    </tr>\n    <tr>\n      <th>4</th>\n      <td>85008</td>\n      <td>43574</td>\n    </tr>\n  </tbody>\n</table>\n</div>"
     },
     "metadata": {},
     "execution_count": 14
    }
   ],
   "source": [
    "# Determine CSV paths for each  \n",
    "\n",
    "#COVID Cases by Zipcode \n",
    "csvfile1 = \"Resources/AZ_Covid Cases.csv\"\n",
    "\n",
    "#COVID Vaccination Rates by Zipcode\n",
    "csvfile2 = \"Resources/AZ_Vac_Count_Rate.csv\"\n",
    "\n",
    "# Median Income by Zipcode \n",
    "csvfile3 = \"Resources/Income_ZipCode.csv\"\n",
    "\n",
    "cases_df = pd.read_csv(csvfile1)\n",
    "vacc_df = pd.read_csv(csvfile2)\n",
    "income_df = pd.read_csv(csvfile3)\n",
    "income_df.head()"
   ]
  },
  {
   "cell_type": "code",
   "execution_count": null,
   "metadata": {},
   "outputs": [],
   "source": [
    "# Merge dataframes \n"
   ]
  },
  {
   "cell_type": "code",
   "execution_count": null,
   "metadata": {},
   "outputs": [],
   "source": []
  }
 ]
}