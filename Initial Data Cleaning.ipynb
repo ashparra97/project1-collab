{
 "metadata": {
  "language_info": {
   "codemirror_mode": {
    "name": "ipython",
    "version": 3
   },
   "file_extension": ".py",
   "mimetype": "text/x-python",
   "name": "python",
   "nbconvert_exporter": "python",
   "pygments_lexer": "ipython3",
   "version": "3.8.5"
  },
  "orig_nbformat": 2,
  "kernelspec": {
   "name": "python385jvsc74a57bd0dca0ade3e726a953b501b15e8e990130d2b7799f14cfd9f4271676035ebe5511",
   "display_name": "Python 3.8.5 64-bit ('base': conda)"
  }
 },
 "nbformat": 4,
 "nbformat_minor": 2,
 "cells": [
  {
   "cell_type": "code",
   "execution_count": 18,
   "metadata": {},
   "outputs": [],
   "source": [
    "# Import Depedencies \n",
    "import pandas as pd "
   ]
  },
  {
   "cell_type": "code",
   "execution_count": 23,
   "metadata": {},
   "outputs": [
    {
     "output_type": "execute_result",
     "data": {
      "text/plain": [
       "   POSTCODE Median Household Income\n",
       "0     85003                   44140\n",
       "1     85004                   41951\n",
       "2     85006                   38121\n",
       "3     85007                   34667\n",
       "4     85008                   43574"
      ],
      "text/html": "<div>\n<style scoped>\n    .dataframe tbody tr th:only-of-type {\n        vertical-align: middle;\n    }\n\n    .dataframe tbody tr th {\n        vertical-align: top;\n    }\n\n    .dataframe thead th {\n        text-align: right;\n    }\n</style>\n<table border=\"1\" class=\"dataframe\">\n  <thead>\n    <tr style=\"text-align: right;\">\n      <th></th>\n      <th>POSTCODE</th>\n      <th>Median Household Income</th>\n    </tr>\n  </thead>\n  <tbody>\n    <tr>\n      <th>0</th>\n      <td>85003</td>\n      <td>44140</td>\n    </tr>\n    <tr>\n      <th>1</th>\n      <td>85004</td>\n      <td>41951</td>\n    </tr>\n    <tr>\n      <th>2</th>\n      <td>85006</td>\n      <td>38121</td>\n    </tr>\n    <tr>\n      <th>3</th>\n      <td>85007</td>\n      <td>34667</td>\n    </tr>\n    <tr>\n      <th>4</th>\n      <td>85008</td>\n      <td>43574</td>\n    </tr>\n  </tbody>\n</table>\n</div>"
     },
     "metadata": {},
     "execution_count": 23
    }
   ],
   "source": [
    "# Determine CSV paths for each  \n",
    "\n",
    "#COVID Cases by Zipcode \n",
    "csvfile1 = \"Resources/AZ_Covid Cases.csv\"\n",
    "\n",
    "#COVID Vaccination Rates by Zipcode\n",
    "csvfile2 = \"Resources/AZ_Vac_Count_Rate.csv\"\n",
    "\n",
    "# Median Income by Zipcode \n",
    "csvfile3 = \"Resources/Income_ZipCode.csv\"\n",
    "\n",
    "cases_df = pd.read_csv(csvfile1)\n",
    "vacc_df = pd.read_csv(csvfile2)\n",
    "income_df = pd.read_csv(csvfile3)\n",
    "income_df.head()"
   ]
  },
  {
   "cell_type": "code",
   "execution_count": 22,
   "metadata": {},
   "outputs": [
    {
     "output_type": "execute_result",
     "data": {
      "text/plain": [
       "         POSTCODE ConfirmedCaseCategory ConfirmedCaseCount  Unnamed: 0  \\\n",
       "0           85003     Greater Than 1000               1534           0   \n",
       "1           85004              501-1000                969           1   \n",
       "2           85006     Greater Than 1000               3272           2   \n",
       "3           85007     Greater Than 1000               2424           3   \n",
       "4           85008     Greater Than 1000               9079           4   \n",
       "..            ...                   ...                ...         ...   \n",
       "405  86514 Tribal       Data Suppressed    Data Suppressed         508   \n",
       "406         86515                     0                  0         376   \n",
       "407  86515 Tribal       Data Suppressed    Data Suppressed         509   \n",
       "408  86538 Tribal       Data Suppressed    Data Suppressed         510   \n",
       "409  86556 Tribal       Data Suppressed    Data Suppressed         511   \n",
       "\n",
       "       percentOver18   CategoryOver18    PercentOver65   CategoryOver65  \\\n",
       "0               46.2            26-55            74.49            56-75   \n",
       "1              63.68            56-75            61.45            56-75   \n",
       "2              35.85            26-55            54.55            26-55   \n",
       "3              41.44            26-55            63.91            56-75   \n",
       "4              33.01            26-55            56.27            56-75   \n",
       "..               ...              ...              ...              ...   \n",
       "405  Data Suppressed  Data Suppressed  Data Suppressed  Data Suppressed   \n",
       "406                0                0                0                0   \n",
       "407  Data Suppressed  Data Suppressed  Data Suppressed  Data Suppressed   \n",
       "408  Data Suppressed  Data Suppressed  Data Suppressed  Data Suppressed   \n",
       "409  Data Suppressed  Data Suppressed  Data Suppressed  Data Suppressed   \n",
       "\n",
       "    NumberOfPeopleVaccinated NumberOfPeopleVaccinatedCategory  \n",
       "0                       4898                      1,001-5,000  \n",
       "1                       4281                      1,001-5,000  \n",
       "2                       6780                     5,001-10,000  \n",
       "3                       4719                      1,001-5,000  \n",
       "4                      14187              Greater Than 10,000  \n",
       "..                       ...                              ...  \n",
       "405          Data Suppressed                  Data Suppressed  \n",
       "406                        0                                0  \n",
       "407          Data Suppressed                  Data Suppressed  \n",
       "408          Data Suppressed                  Data Suppressed  \n",
       "409          Data Suppressed                  Data Suppressed  \n",
       "\n",
       "[410 rows x 10 columns]"
      ],
      "text/html": "<div>\n<style scoped>\n    .dataframe tbody tr th:only-of-type {\n        vertical-align: middle;\n    }\n\n    .dataframe tbody tr th {\n        vertical-align: top;\n    }\n\n    .dataframe thead th {\n        text-align: right;\n    }\n</style>\n<table border=\"1\" class=\"dataframe\">\n  <thead>\n    <tr style=\"text-align: right;\">\n      <th></th>\n      <th>POSTCODE</th>\n      <th>ConfirmedCaseCategory</th>\n      <th>ConfirmedCaseCount</th>\n      <th>Unnamed: 0</th>\n      <th>percentOver18</th>\n      <th>CategoryOver18</th>\n      <th>PercentOver65</th>\n      <th>CategoryOver65</th>\n      <th>NumberOfPeopleVaccinated</th>\n      <th>NumberOfPeopleVaccinatedCategory</th>\n    </tr>\n  </thead>\n  <tbody>\n    <tr>\n      <th>0</th>\n      <td>85003</td>\n      <td>Greater Than 1000</td>\n      <td>1534</td>\n      <td>0</td>\n      <td>46.2</td>\n      <td>26-55</td>\n      <td>74.49</td>\n      <td>56-75</td>\n      <td>4898</td>\n      <td>1,001-5,000</td>\n    </tr>\n    <tr>\n      <th>1</th>\n      <td>85004</td>\n      <td>501-1000</td>\n      <td>969</td>\n      <td>1</td>\n      <td>63.68</td>\n      <td>56-75</td>\n      <td>61.45</td>\n      <td>56-75</td>\n      <td>4281</td>\n      <td>1,001-5,000</td>\n    </tr>\n    <tr>\n      <th>2</th>\n      <td>85006</td>\n      <td>Greater Than 1000</td>\n      <td>3272</td>\n      <td>2</td>\n      <td>35.85</td>\n      <td>26-55</td>\n      <td>54.55</td>\n      <td>26-55</td>\n      <td>6780</td>\n      <td>5,001-10,000</td>\n    </tr>\n    <tr>\n      <th>3</th>\n      <td>85007</td>\n      <td>Greater Than 1000</td>\n      <td>2424</td>\n      <td>3</td>\n      <td>41.44</td>\n      <td>26-55</td>\n      <td>63.91</td>\n      <td>56-75</td>\n      <td>4719</td>\n      <td>1,001-5,000</td>\n    </tr>\n    <tr>\n      <th>4</th>\n      <td>85008</td>\n      <td>Greater Than 1000</td>\n      <td>9079</td>\n      <td>4</td>\n      <td>33.01</td>\n      <td>26-55</td>\n      <td>56.27</td>\n      <td>56-75</td>\n      <td>14187</td>\n      <td>Greater Than 10,000</td>\n    </tr>\n    <tr>\n      <th>...</th>\n      <td>...</td>\n      <td>...</td>\n      <td>...</td>\n      <td>...</td>\n      <td>...</td>\n      <td>...</td>\n      <td>...</td>\n      <td>...</td>\n      <td>...</td>\n      <td>...</td>\n    </tr>\n    <tr>\n      <th>405</th>\n      <td>86514 Tribal</td>\n      <td>Data Suppressed</td>\n      <td>Data Suppressed</td>\n      <td>508</td>\n      <td>Data Suppressed</td>\n      <td>Data Suppressed</td>\n      <td>Data Suppressed</td>\n      <td>Data Suppressed</td>\n      <td>Data Suppressed</td>\n      <td>Data Suppressed</td>\n    </tr>\n    <tr>\n      <th>406</th>\n      <td>86515</td>\n      <td>0</td>\n      <td>0</td>\n      <td>376</td>\n      <td>0</td>\n      <td>0</td>\n      <td>0</td>\n      <td>0</td>\n      <td>0</td>\n      <td>0</td>\n    </tr>\n    <tr>\n      <th>407</th>\n      <td>86515 Tribal</td>\n      <td>Data Suppressed</td>\n      <td>Data Suppressed</td>\n      <td>509</td>\n      <td>Data Suppressed</td>\n      <td>Data Suppressed</td>\n      <td>Data Suppressed</td>\n      <td>Data Suppressed</td>\n      <td>Data Suppressed</td>\n      <td>Data Suppressed</td>\n    </tr>\n    <tr>\n      <th>408</th>\n      <td>86538 Tribal</td>\n      <td>Data Suppressed</td>\n      <td>Data Suppressed</td>\n      <td>510</td>\n      <td>Data Suppressed</td>\n      <td>Data Suppressed</td>\n      <td>Data Suppressed</td>\n      <td>Data Suppressed</td>\n      <td>Data Suppressed</td>\n      <td>Data Suppressed</td>\n    </tr>\n    <tr>\n      <th>409</th>\n      <td>86556 Tribal</td>\n      <td>Data Suppressed</td>\n      <td>Data Suppressed</td>\n      <td>511</td>\n      <td>Data Suppressed</td>\n      <td>Data Suppressed</td>\n      <td>Data Suppressed</td>\n      <td>Data Suppressed</td>\n      <td>Data Suppressed</td>\n      <td>Data Suppressed</td>\n    </tr>\n  </tbody>\n</table>\n<p>410 rows × 10 columns</p>\n</div>"
     },
     "metadata": {},
     "execution_count": 22
    }
   ],
   "source": [
    "# Merge dataframes for cases and vaccines\n",
    "merge1_df = pd.merge(cases_df, vacc_df, on=\"POSTCODE\")\n",
    "merge1_df"
   ]
  },
  {
   "cell_type": "code",
   "execution_count": null,
   "metadata": {},
   "outputs": [],
   "source": [
    "# Merge final two "
   ]
  }
 ]
}