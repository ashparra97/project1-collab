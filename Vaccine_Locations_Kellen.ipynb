{
 "metadata": {
  "language_info": {
   "codemirror_mode": {
    "name": "ipython",
    "version": 3
   },
   "file_extension": ".py",
   "mimetype": "text/x-python",
   "name": "python",
   "nbconvert_exporter": "python",
   "pygments_lexer": "ipython3",
   "version": "3.8.5"
  },
  "orig_nbformat": 2,
  "kernelspec": {
   "name": "python385jvsc74a57bd0403a5d6a394a01ef26b2cc6b156171da77f8332ee7637ee8dac9f64c5d1c19b3",
   "display_name": "Python 3.8.5 64-bit ('base': conda)"
  }
 },
 "nbformat": 4,
 "nbformat_minor": 2,
 "cells": [
  {
   "cell_type": "code",
   "execution_count": 1,
   "metadata": {},
   "outputs": [],
   "source": [
    "# Dependencies and Setup\n",
    "import os\n",
    "import matplotlib.pyplot as plt\n",
    "import pandas as pd\n",
    "import numpy as np\n",
    "import requests\n",
    "import gmaps\n",
    "import json\n",
    "\n",
    "# Import API key\n",
    "from api_keys import g_key"
   ]
  },
  {
   "cell_type": "code",
   "execution_count": 2,
   "metadata": {},
   "outputs": [],
   "source": [
    "# Vaccine Location (Path) and read the CSV File\n",
    "VaccineLocation_path = \"/Users/kellenquinn/Desktop/untitled folder/vaccinelocations.csv\"\n",
    "VaccineLocation_df = pd.read_csv(VaccineLocation_path)"
   ]
  },
  {
   "cell_type": "code",
   "execution_count": 3,
   "metadata": {},
   "outputs": [
    {
     "output_type": "execute_result",
     "data": {
      "text/plain": [
       "         POSTCODE ConfirmedCaseCategory ConfirmedCaseCount\n",
       "0           85003     Greater Than 1000               1534\n",
       "1           85004              501-1000                969\n",
       "2           85006     Greater Than 1000               3272\n",
       "3           85007     Greater Than 1000               2424\n",
       "4           85008     Greater Than 1000               9079\n",
       "..            ...                   ...                ...\n",
       "405  86514 Tribal       Data Suppressed    Data Suppressed\n",
       "406         86515                     0                  0\n",
       "407  86515 Tribal       Data Suppressed    Data Suppressed\n",
       "408  86538 Tribal       Data Suppressed    Data Suppressed\n",
       "409  86556 Tribal       Data Suppressed    Data Suppressed\n",
       "\n",
       "[410 rows x 3 columns]"
      ],
      "text/html": "<div>\n<style scoped>\n    .dataframe tbody tr th:only-of-type {\n        vertical-align: middle;\n    }\n\n    .dataframe tbody tr th {\n        vertical-align: top;\n    }\n\n    .dataframe thead th {\n        text-align: right;\n    }\n</style>\n<table border=\"1\" class=\"dataframe\">\n  <thead>\n    <tr style=\"text-align: right;\">\n      <th></th>\n      <th>POSTCODE</th>\n      <th>ConfirmedCaseCategory</th>\n      <th>ConfirmedCaseCount</th>\n    </tr>\n  </thead>\n  <tbody>\n    <tr>\n      <th>0</th>\n      <td>85003</td>\n      <td>Greater Than 1000</td>\n      <td>1534</td>\n    </tr>\n    <tr>\n      <th>1</th>\n      <td>85004</td>\n      <td>501-1000</td>\n      <td>969</td>\n    </tr>\n    <tr>\n      <th>2</th>\n      <td>85006</td>\n      <td>Greater Than 1000</td>\n      <td>3272</td>\n    </tr>\n    <tr>\n      <th>3</th>\n      <td>85007</td>\n      <td>Greater Than 1000</td>\n      <td>2424</td>\n    </tr>\n    <tr>\n      <th>4</th>\n      <td>85008</td>\n      <td>Greater Than 1000</td>\n      <td>9079</td>\n    </tr>\n    <tr>\n      <th>...</th>\n      <td>...</td>\n      <td>...</td>\n      <td>...</td>\n    </tr>\n    <tr>\n      <th>405</th>\n      <td>86514 Tribal</td>\n      <td>Data Suppressed</td>\n      <td>Data Suppressed</td>\n    </tr>\n    <tr>\n      <th>406</th>\n      <td>86515</td>\n      <td>0</td>\n      <td>0</td>\n    </tr>\n    <tr>\n      <th>407</th>\n      <td>86515 Tribal</td>\n      <td>Data Suppressed</td>\n      <td>Data Suppressed</td>\n    </tr>\n    <tr>\n      <th>408</th>\n      <td>86538 Tribal</td>\n      <td>Data Suppressed</td>\n      <td>Data Suppressed</td>\n    </tr>\n    <tr>\n      <th>409</th>\n      <td>86556 Tribal</td>\n      <td>Data Suppressed</td>\n      <td>Data Suppressed</td>\n    </tr>\n  </tbody>\n</table>\n<p>410 rows × 3 columns</p>\n</div>"
     },
     "metadata": {},
     "execution_count": 3
    }
   ],
   "source": [
    "#COVID Cases by Zipcode \n",
    "csvfile1 = \"/Users/kellenquinn/Desktop/project1-collab/Resources/AZ_Covid Cases.csv\"\n",
    "cases_df = pd.read_csv(csvfile1)\n",
    "cases_df"
   ]
  },
  {
   "cell_type": "code",
   "execution_count": 22,
   "metadata": {},
   "outputs": [
    {
     "output_type": "execute_result",
     "data": {
      "text/plain": [
       "    POSTCODE ConfirmedCaseCount\n",
       "0      85003               1534\n",
       "1      85004                969\n",
       "2      85006               3272\n",
       "3      85007               2424\n",
       "4      85008               9079\n",
       "..       ...                ...\n",
       "397    86505                137\n",
       "399    86507                  0\n",
       "402    86511               1-10\n",
       "404    86514                  0\n",
       "406    86515                  0\n",
       "\n",
       "[377 rows x 2 columns]"
      ],
      "text/html": "<div>\n<style scoped>\n    .dataframe tbody tr th:only-of-type {\n        vertical-align: middle;\n    }\n\n    .dataframe tbody tr th {\n        vertical-align: top;\n    }\n\n    .dataframe thead th {\n        text-align: right;\n    }\n</style>\n<table border=\"1\" class=\"dataframe\">\n  <thead>\n    <tr style=\"text-align: right;\">\n      <th></th>\n      <th>POSTCODE</th>\n      <th>ConfirmedCaseCount</th>\n    </tr>\n  </thead>\n  <tbody>\n    <tr>\n      <th>0</th>\n      <td>85003</td>\n      <td>1534</td>\n    </tr>\n    <tr>\n      <th>1</th>\n      <td>85004</td>\n      <td>969</td>\n    </tr>\n    <tr>\n      <th>2</th>\n      <td>85006</td>\n      <td>3272</td>\n    </tr>\n    <tr>\n      <th>3</th>\n      <td>85007</td>\n      <td>2424</td>\n    </tr>\n    <tr>\n      <th>4</th>\n      <td>85008</td>\n      <td>9079</td>\n    </tr>\n    <tr>\n      <th>...</th>\n      <td>...</td>\n      <td>...</td>\n    </tr>\n    <tr>\n      <th>397</th>\n      <td>86505</td>\n      <td>137</td>\n    </tr>\n    <tr>\n      <th>399</th>\n      <td>86507</td>\n      <td>0</td>\n    </tr>\n    <tr>\n      <th>402</th>\n      <td>86511</td>\n      <td>1-10</td>\n    </tr>\n    <tr>\n      <th>404</th>\n      <td>86514</td>\n      <td>0</td>\n    </tr>\n    <tr>\n      <th>406</th>\n      <td>86515</td>\n      <td>0</td>\n    </tr>\n  </tbody>\n</table>\n<p>377 rows × 2 columns</p>\n</div>"
     },
     "metadata": {},
     "execution_count": 22
    }
   ],
   "source": [
    "finalcases_df = cases_df.dropna()\n",
    "Clean_df = finalcases_df.drop(columns='ConfirmedCaseCategory')\n",
    "Clean_df.loc[~(Clean_df['ConfirmedCaseCount']=='Data Suppressed')]\n",
    "Final_df = Clean_df.loc[~(Clean_df['ConfirmedCaseCount']=='Data Suppressed')]\n",
    "Final_df"
   ]
  },
  {
   "cell_type": "code",
   "execution_count": 35,
   "metadata": {},
   "outputs": [
    {
     "output_type": "stream",
     "name": "stderr",
     "text": [
      "/Users/kellenquinn/opt/anaconda3/lib/python3.8/site-packages/pandas/core/indexing.py:670: SettingWithCopyWarning: \nA value is trying to be set on a copy of a slice from a DataFrame\n\nSee the caveats in the documentation: https://pandas.pydata.org/pandas-docs/stable/user_guide/indexing.html#returning-a-view-versus-a-copy\n  iloc._setitem_with_indexer(indexer, value)\n<ipython-input-35-ee951bc4c75f>:2: SettingWithCopyWarning: \nA value is trying to be set on a copy of a slice from a DataFrame\n\nSee the caveats in the documentation: https://pandas.pydata.org/pandas-docs/stable/user_guide/indexing.html#returning-a-view-versus-a-copy\n  Final_df.loc[Final_df['ConfirmedCaseCount']=='1-10','ConfirmedCaseCount'] = 5\n"
     ]
    },
    {
     "output_type": "execute_result",
     "data": {
      "text/plain": [
       "    POSTCODE ConfirmedCaseCount      Lat      Lon\n",
       "0      85003               1534  33.4496 -112.079\n",
       "1      85004                969  33.4528 -112.069\n",
       "2      85006               3272  33.4636 -112.054\n",
       "3      85007               2424  33.4463 -112.089\n",
       "4      85008               9079   33.466 -112.012\n",
       "..       ...                ...      ...      ...\n",
       "397    86505                137  35.5677 -109.664\n",
       "399    86507                  0  36.4107 -109.259\n",
       "402    86511                  5  35.7497 -109.331\n",
       "404    86514                  0  36.9182 -109.331\n",
       "406    86515                  0  35.6688 -108.926\n",
       "\n",
       "[377 rows x 4 columns]"
      ],
      "text/html": "<div>\n<style scoped>\n    .dataframe tbody tr th:only-of-type {\n        vertical-align: middle;\n    }\n\n    .dataframe tbody tr th {\n        vertical-align: top;\n    }\n\n    .dataframe thead th {\n        text-align: right;\n    }\n</style>\n<table border=\"1\" class=\"dataframe\">\n  <thead>\n    <tr style=\"text-align: right;\">\n      <th></th>\n      <th>POSTCODE</th>\n      <th>ConfirmedCaseCount</th>\n      <th>Lat</th>\n      <th>Lon</th>\n    </tr>\n  </thead>\n  <tbody>\n    <tr>\n      <th>0</th>\n      <td>85003</td>\n      <td>1534</td>\n      <td>33.4496</td>\n      <td>-112.079</td>\n    </tr>\n    <tr>\n      <th>1</th>\n      <td>85004</td>\n      <td>969</td>\n      <td>33.4528</td>\n      <td>-112.069</td>\n    </tr>\n    <tr>\n      <th>2</th>\n      <td>85006</td>\n      <td>3272</td>\n      <td>33.4636</td>\n      <td>-112.054</td>\n    </tr>\n    <tr>\n      <th>3</th>\n      <td>85007</td>\n      <td>2424</td>\n      <td>33.4463</td>\n      <td>-112.089</td>\n    </tr>\n    <tr>\n      <th>4</th>\n      <td>85008</td>\n      <td>9079</td>\n      <td>33.466</td>\n      <td>-112.012</td>\n    </tr>\n    <tr>\n      <th>...</th>\n      <td>...</td>\n      <td>...</td>\n      <td>...</td>\n      <td>...</td>\n    </tr>\n    <tr>\n      <th>397</th>\n      <td>86505</td>\n      <td>137</td>\n      <td>35.5677</td>\n      <td>-109.664</td>\n    </tr>\n    <tr>\n      <th>399</th>\n      <td>86507</td>\n      <td>0</td>\n      <td>36.4107</td>\n      <td>-109.259</td>\n    </tr>\n    <tr>\n      <th>402</th>\n      <td>86511</td>\n      <td>5</td>\n      <td>35.7497</td>\n      <td>-109.331</td>\n    </tr>\n    <tr>\n      <th>404</th>\n      <td>86514</td>\n      <td>0</td>\n      <td>36.9182</td>\n      <td>-109.331</td>\n    </tr>\n    <tr>\n      <th>406</th>\n      <td>86515</td>\n      <td>0</td>\n      <td>35.6688</td>\n      <td>-108.926</td>\n    </tr>\n  </tbody>\n</table>\n<p>377 rows × 4 columns</p>\n</div>"
     },
     "metadata": {},
     "execution_count": 35
    }
   ],
   "source": [
    "#Continue Clean-up of Data\n",
    "Final_df.loc[Final_df['ConfirmedCaseCount']=='1-10','ConfirmedCaseCount'] = 5\n",
    "Final_df\n"
   ]
  },
  {
   "cell_type": "code",
   "execution_count": 23,
   "metadata": {},
   "outputs": [
    {
     "output_type": "stream",
     "name": "stderr",
     "text": [
      "<ipython-input-23-386bb5425e56>:1: SettingWithCopyWarning: \nA value is trying to be set on a copy of a slice from a DataFrame.\nTry using .loc[row_indexer,col_indexer] = value instead\n\nSee the caveats in the documentation: https://pandas.pydata.org/pandas-docs/stable/user_guide/indexing.html#returning-a-view-versus-a-copy\n  Final_df[\"Lat\"] = \"\"\n<ipython-input-23-386bb5425e56>:2: SettingWithCopyWarning: \nA value is trying to be set on a copy of a slice from a DataFrame.\nTry using .loc[row_indexer,col_indexer] = value instead\n\nSee the caveats in the documentation: https://pandas.pydata.org/pandas-docs/stable/user_guide/indexing.html#returning-a-view-versus-a-copy\n  Final_df[\"Lon\"] = \"\"\n"
     ]
    },
    {
     "output_type": "execute_result",
     "data": {
      "text/plain": [
       "    POSTCODE ConfirmedCaseCount Lat Lon\n",
       "0      85003               1534        \n",
       "1      85004                969        \n",
       "2      85006               3272        \n",
       "3      85007               2424        \n",
       "4      85008               9079        \n",
       "..       ...                ...  ..  ..\n",
       "397    86505                137        \n",
       "399    86507                  0        \n",
       "402    86511               1-10        \n",
       "404    86514                  0        \n",
       "406    86515                  0        \n",
       "\n",
       "[377 rows x 4 columns]"
      ],
      "text/html": "<div>\n<style scoped>\n    .dataframe tbody tr th:only-of-type {\n        vertical-align: middle;\n    }\n\n    .dataframe tbody tr th {\n        vertical-align: top;\n    }\n\n    .dataframe thead th {\n        text-align: right;\n    }\n</style>\n<table border=\"1\" class=\"dataframe\">\n  <thead>\n    <tr style=\"text-align: right;\">\n      <th></th>\n      <th>POSTCODE</th>\n      <th>ConfirmedCaseCount</th>\n      <th>Lat</th>\n      <th>Lon</th>\n    </tr>\n  </thead>\n  <tbody>\n    <tr>\n      <th>0</th>\n      <td>85003</td>\n      <td>1534</td>\n      <td></td>\n      <td></td>\n    </tr>\n    <tr>\n      <th>1</th>\n      <td>85004</td>\n      <td>969</td>\n      <td></td>\n      <td></td>\n    </tr>\n    <tr>\n      <th>2</th>\n      <td>85006</td>\n      <td>3272</td>\n      <td></td>\n      <td></td>\n    </tr>\n    <tr>\n      <th>3</th>\n      <td>85007</td>\n      <td>2424</td>\n      <td></td>\n      <td></td>\n    </tr>\n    <tr>\n      <th>4</th>\n      <td>85008</td>\n      <td>9079</td>\n      <td></td>\n      <td></td>\n    </tr>\n    <tr>\n      <th>...</th>\n      <td>...</td>\n      <td>...</td>\n      <td>...</td>\n      <td>...</td>\n    </tr>\n    <tr>\n      <th>397</th>\n      <td>86505</td>\n      <td>137</td>\n      <td></td>\n      <td></td>\n    </tr>\n    <tr>\n      <th>399</th>\n      <td>86507</td>\n      <td>0</td>\n      <td></td>\n      <td></td>\n    </tr>\n    <tr>\n      <th>402</th>\n      <td>86511</td>\n      <td>1-10</td>\n      <td></td>\n      <td></td>\n    </tr>\n    <tr>\n      <th>404</th>\n      <td>86514</td>\n      <td>0</td>\n      <td></td>\n      <td></td>\n    </tr>\n    <tr>\n      <th>406</th>\n      <td>86515</td>\n      <td>0</td>\n      <td></td>\n      <td></td>\n    </tr>\n  </tbody>\n</table>\n<p>377 rows × 4 columns</p>\n</div>"
     },
     "metadata": {},
     "execution_count": 23
    }
   ],
   "source": [
    "Final_df[\"Lat\"] = \"\"\n",
    "Final_df[\"Lon\"] = \"\"\n",
    "Final_df"
   ]
  },
  {
   "cell_type": "code",
   "execution_count": 24,
   "metadata": {},
   "outputs": [
    {
     "output_type": "stream",
     "name": "stderr",
     "text": [
      "/Users/kellenquinn/opt/anaconda3/lib/python3.8/site-packages/pandas/core/indexing.py:670: SettingWithCopyWarning: \nA value is trying to be set on a copy of a slice from a DataFrame\n\nSee the caveats in the documentation: https://pandas.pydata.org/pandas-docs/stable/user_guide/indexing.html#returning-a-view-versus-a-copy\n  iloc._setitem_with_indexer(indexer, value)\n<ipython-input-24-30f172611cab>:14: SettingWithCopyWarning: \nA value is trying to be set on a copy of a slice from a DataFrame\n\nSee the caveats in the documentation: https://pandas.pydata.org/pandas-docs/stable/user_guide/indexing.html#returning-a-view-versus-a-copy\n  Final_df.loc[index, \"Lat\"]=response[\"results\"][0][\"geometry\"][\"location\"][\"lat\"]\n<ipython-input-24-30f172611cab>:15: SettingWithCopyWarning: \nA value is trying to be set on a copy of a slice from a DataFrame\n\nSee the caveats in the documentation: https://pandas.pydata.org/pandas-docs/stable/user_guide/indexing.html#returning-a-view-versus-a-copy\n  Final_df.loc[index, \"Lon\"]=response[\"results\"][0][\"geometry\"][\"location\"][\"lng\"]\n"
     ]
    },
    {
     "output_type": "execute_result",
     "data": {
      "text/plain": [
       "  POSTCODE ConfirmedCaseCount      Lat      Lon\n",
       "0    85003               1534  33.4496 -112.079\n",
       "1    85004                969  33.4528 -112.069\n",
       "2    85006               3272  33.4636 -112.054\n",
       "3    85007               2424  33.4463 -112.089\n",
       "4    85008               9079   33.466 -112.012"
      ],
      "text/html": "<div>\n<style scoped>\n    .dataframe tbody tr th:only-of-type {\n        vertical-align: middle;\n    }\n\n    .dataframe tbody tr th {\n        vertical-align: top;\n    }\n\n    .dataframe thead th {\n        text-align: right;\n    }\n</style>\n<table border=\"1\" class=\"dataframe\">\n  <thead>\n    <tr style=\"text-align: right;\">\n      <th></th>\n      <th>POSTCODE</th>\n      <th>ConfirmedCaseCount</th>\n      <th>Lat</th>\n      <th>Lon</th>\n    </tr>\n  </thead>\n  <tbody>\n    <tr>\n      <th>0</th>\n      <td>85003</td>\n      <td>1534</td>\n      <td>33.4496</td>\n      <td>-112.079</td>\n    </tr>\n    <tr>\n      <th>1</th>\n      <td>85004</td>\n      <td>969</td>\n      <td>33.4528</td>\n      <td>-112.069</td>\n    </tr>\n    <tr>\n      <th>2</th>\n      <td>85006</td>\n      <td>3272</td>\n      <td>33.4636</td>\n      <td>-112.054</td>\n    </tr>\n    <tr>\n      <th>3</th>\n      <td>85007</td>\n      <td>2424</td>\n      <td>33.4463</td>\n      <td>-112.089</td>\n    </tr>\n    <tr>\n      <th>4</th>\n      <td>85008</td>\n      <td>9079</td>\n      <td>33.466</td>\n      <td>-112.012</td>\n    </tr>\n  </tbody>\n</table>\n</div>"
     },
     "metadata": {},
     "execution_count": 24
    }
   ],
   "source": [
    "# Query URL\n",
    "query_url = \"https://maps.googleapis.com/maps/api/geocode/json?\"\n",
    "\n",
    "# Lat Lon for Zipcodes\n",
    "for index, zips in Final_df.iterrows():\n",
    "    params= {\n",
    "        \"key\": g_key,\n",
    "        \"address\": zips[\"POSTCODE\"],\n",
    "     }\n",
    "\n",
    "    response = requests.get(query_url, params = params).json()\n",
    "\n",
    "    try: \n",
    "        Final_df.loc[index, \"Lat\"]=response[\"results\"][0][\"geometry\"][\"location\"][\"lat\"]\n",
    "        Final_df.loc[index, \"Lon\"]=response[\"results\"][0][\"geometry\"][\"location\"][\"lng\"]\n",
    "    except (KeyError, IndexError):\n",
    "        print(f\"Error Occured, Skipping Zip Code\")\n",
    "\n",
    "Final_df.head()        \n"
   ]
  },
  {
   "cell_type": "code",
   "execution_count": 46,
   "metadata": {},
   "outputs": [
    {
     "output_type": "execute_result",
     "data": {
      "text/plain": [
       "12717.0"
      ]
     },
     "metadata": {},
     "execution_count": 46
    }
   ],
   "source": [
    "#Convert to Float\n",
    "Final_df['ConfirmedCaseCount'].astype(float).max()"
   ]
  },
  {
   "cell_type": "code",
   "execution_count": 7,
   "metadata": {},
   "outputs": [
    {
     "output_type": "execute_result",
     "data": {
      "text/plain": [
       "                    Manufacturer  \\\n",
       "0                Pfizer_BioNTech   \n",
       "1                    Pfizer; J_J   \n",
       "2    Moderna,​​​​Pfizer_BioNTech   \n",
       "3    Moderna,​​​​Pfizer_BioNTech   \n",
       "4    Moderna,​​​​Pfizer_BioNTech   \n",
       "..                           ...   \n",
       "364          ​​​​Pfizer_BioNTech   \n",
       "365          ​​​​Pfizer_BioNTech   \n",
       "366          ​​​​Pfizer_BioNTech   \n",
       "367          ​​​​Pfizer_BioNTech   \n",
       "368          ​​​​Pfizer_BioNTech   \n",
       "\n",
       "                                          Location  \\\n",
       "0                          The Little Clinic-Fry's   \n",
       "1    Mountain Park Health Center - Baseline Clinic   \n",
       "2                              CVS/Pharmacy #00193   \n",
       "3                              CVS/Pharmacy #03500   \n",
       "4                              CVS/Pharmacy #03749   \n",
       "..                                             ...   \n",
       "364                                Walgreens #4228   \n",
       "365                                Walgreens #4909   \n",
       "366                                Walgreens #5504   \n",
       "367                                Walgreens #6063   \n",
       "368                                Walgreens #9057   \n",
       "\n",
       "                                       Address      City Lat Lon  \n",
       "0           9039 W Olive Ave, Peoria, AZ 85345    Peoria          \n",
       "1         635 E Baseline Rd, Phoenix, AZ 85042   Phoenix          \n",
       "2       4990 S Arizona Ave, Chandler, AZ 85248  Chandler          \n",
       "3            1625 N 44th St, Phoenix, AZ 85008   Phoenix          \n",
       "4         2840 N Dysart Rd, Goodyear, AZ 85395  Goodyear          \n",
       "..                                         ...       ...  ..  ..  \n",
       "364    5125 W Northern Ave, Glendale, AZ 85301  Glendale          \n",
       "365         2921 N 83rd Ave, Phoenix, AZ 85033   Phoenix          \n",
       "366     4249 W Glendale Ave, Phoenix, AZ 85051   Phoenix          \n",
       "367  1825 W Bethany Home Rd, Phoenix, AZ 85015   Phoenix          \n",
       "368        18433 N 19th Ave, Phoenix, AZ 85023   Phoenix          \n",
       "\n",
       "[369 rows x 6 columns]"
      ],
      "text/html": "<div>\n<style scoped>\n    .dataframe tbody tr th:only-of-type {\n        vertical-align: middle;\n    }\n\n    .dataframe tbody tr th {\n        vertical-align: top;\n    }\n\n    .dataframe thead th {\n        text-align: right;\n    }\n</style>\n<table border=\"1\" class=\"dataframe\">\n  <thead>\n    <tr style=\"text-align: right;\">\n      <th></th>\n      <th>Manufacturer</th>\n      <th>Location</th>\n      <th>Address</th>\n      <th>City</th>\n      <th>Lat</th>\n      <th>Lon</th>\n    </tr>\n  </thead>\n  <tbody>\n    <tr>\n      <th>0</th>\n      <td>Pfizer_BioNTech</td>\n      <td>The Little Clinic-Fry's</td>\n      <td>9039 W Olive Ave, Peoria, AZ 85345</td>\n      <td>Peoria</td>\n      <td></td>\n      <td></td>\n    </tr>\n    <tr>\n      <th>1</th>\n      <td>Pfizer; J_J</td>\n      <td>Mountain Park Health Center - Baseline Clinic</td>\n      <td>635 E Baseline Rd, Phoenix, AZ 85042</td>\n      <td>Phoenix</td>\n      <td></td>\n      <td></td>\n    </tr>\n    <tr>\n      <th>2</th>\n      <td>Moderna,​​​​Pfizer_BioNTech</td>\n      <td>CVS/Pharmacy #00193</td>\n      <td>4990 S Arizona Ave, Chandler, AZ 85248</td>\n      <td>Chandler</td>\n      <td></td>\n      <td></td>\n    </tr>\n    <tr>\n      <th>3</th>\n      <td>Moderna,​​​​Pfizer_BioNTech</td>\n      <td>CVS/Pharmacy #03500</td>\n      <td>1625 N 44th St, Phoenix, AZ 85008</td>\n      <td>Phoenix</td>\n      <td></td>\n      <td></td>\n    </tr>\n    <tr>\n      <th>4</th>\n      <td>Moderna,​​​​Pfizer_BioNTech</td>\n      <td>CVS/Pharmacy #03749</td>\n      <td>2840 N Dysart Rd, Goodyear, AZ 85395</td>\n      <td>Goodyear</td>\n      <td></td>\n      <td></td>\n    </tr>\n    <tr>\n      <th>...</th>\n      <td>...</td>\n      <td>...</td>\n      <td>...</td>\n      <td>...</td>\n      <td>...</td>\n      <td>...</td>\n    </tr>\n    <tr>\n      <th>364</th>\n      <td>​​​​Pfizer_BioNTech</td>\n      <td>Walgreens #4228</td>\n      <td>5125 W Northern Ave, Glendale, AZ 85301</td>\n      <td>Glendale</td>\n      <td></td>\n      <td></td>\n    </tr>\n    <tr>\n      <th>365</th>\n      <td>​​​​Pfizer_BioNTech</td>\n      <td>Walgreens #4909</td>\n      <td>2921 N 83rd Ave, Phoenix, AZ 85033</td>\n      <td>Phoenix</td>\n      <td></td>\n      <td></td>\n    </tr>\n    <tr>\n      <th>366</th>\n      <td>​​​​Pfizer_BioNTech</td>\n      <td>Walgreens #5504</td>\n      <td>4249 W Glendale Ave, Phoenix, AZ 85051</td>\n      <td>Phoenix</td>\n      <td></td>\n      <td></td>\n    </tr>\n    <tr>\n      <th>367</th>\n      <td>​​​​Pfizer_BioNTech</td>\n      <td>Walgreens #6063</td>\n      <td>1825 W Bethany Home Rd, Phoenix, AZ 85015</td>\n      <td>Phoenix</td>\n      <td></td>\n      <td></td>\n    </tr>\n    <tr>\n      <th>368</th>\n      <td>​​​​Pfizer_BioNTech</td>\n      <td>Walgreens #9057</td>\n      <td>18433 N 19th Ave, Phoenix, AZ 85023</td>\n      <td>Phoenix</td>\n      <td></td>\n      <td></td>\n    </tr>\n  </tbody>\n</table>\n<p>369 rows × 6 columns</p>\n</div>"
     },
     "metadata": {},
     "execution_count": 7
    }
   ],
   "source": [
    "VaccineLocation_df[\"Lat\"] = \"\"\n",
    "VaccineLocation_df[\"Lon\"] = \"\"\n",
    "VaccineLocation_df"
   ]
  },
  {
   "source": [
    "# Run Request \n",
    "for index, row in VaccineLocation_df.iterrows():\n",
    "    target_location = row[\"Address\"].replace(\" \",\"+\")\n",
    "    target_url = f\"https://maps.googleapis.com/maps/api/geocode/json?address={target_location}&key={g_key}\"\n",
    "    \n",
    "#  make request\n",
    "    response=requests.get(target_url).json()\n",
    "  \n",
    "# Extract latitude and longitude\n",
    "    VaccineLocation_df.loc[index,\"Lat\"] = response[\"results\"][0][\"geometry\"][\"location\"][\"lat\"]\n",
    "    VaccineLocation_df.loc[index,\"Lon\"] = response[\"results\"][0][\"geometry\"][\"location\"][\"lng\"]\n",
    "        "
   ],
   "cell_type": "code",
   "metadata": {
    "tags": []
   },
   "execution_count": 8,
   "outputs": []
  },
  {
   "cell_type": "code",
   "execution_count": 9,
   "metadata": {},
   "outputs": [
    {
     "output_type": "execute_result",
     "data": {
      "text/plain": [
       "                    Manufacturer  \\\n",
       "0                Pfizer_BioNTech   \n",
       "1                    Pfizer; J_J   \n",
       "2    Moderna,​​​​Pfizer_BioNTech   \n",
       "3    Moderna,​​​​Pfizer_BioNTech   \n",
       "4    Moderna,​​​​Pfizer_BioNTech   \n",
       "..                           ...   \n",
       "364          ​​​​Pfizer_BioNTech   \n",
       "365          ​​​​Pfizer_BioNTech   \n",
       "366          ​​​​Pfizer_BioNTech   \n",
       "367          ​​​​Pfizer_BioNTech   \n",
       "368          ​​​​Pfizer_BioNTech   \n",
       "\n",
       "                                          Location  \\\n",
       "0                          The Little Clinic-Fry's   \n",
       "1    Mountain Park Health Center - Baseline Clinic   \n",
       "2                              CVS/Pharmacy #00193   \n",
       "3                              CVS/Pharmacy #03500   \n",
       "4                              CVS/Pharmacy #03749   \n",
       "..                                             ...   \n",
       "364                                Walgreens #4228   \n",
       "365                                Walgreens #4909   \n",
       "366                                Walgreens #5504   \n",
       "367                                Walgreens #6063   \n",
       "368                                Walgreens #9057   \n",
       "\n",
       "                                       Address      City      Lat      Lon  \n",
       "0           9039 W Olive Ave, Peoria, AZ 85345    Peoria   33.566 -112.253  \n",
       "1         635 E Baseline Rd, Phoenix, AZ 85042   Phoenix  33.3767 -112.068  \n",
       "2       4990 S Arizona Ave, Chandler, AZ 85248  Chandler  33.2337 -111.842  \n",
       "3            1625 N 44th St, Phoenix, AZ 85008   Phoenix  33.4665 -111.987  \n",
       "4         2840 N Dysart Rd, Goodyear, AZ 85395  Goodyear  33.4782 -112.342  \n",
       "..                                         ...       ...      ...      ...  \n",
       "364    5125 W Northern Ave, Glendale, AZ 85301  Glendale  33.5525  -112.17  \n",
       "365         2921 N 83rd Ave, Phoenix, AZ 85033   Phoenix  33.4808 -112.237  \n",
       "366     4249 W Glendale Ave, Phoenix, AZ 85051   Phoenix  33.5379 -112.151  \n",
       "367  1825 W Bethany Home Rd, Phoenix, AZ 85015   Phoenix  33.5235 -112.099  \n",
       "368        18433 N 19th Ave, Phoenix, AZ 85023   Phoenix  33.6538 -112.099  \n",
       "\n",
       "[369 rows x 6 columns]"
      ],
      "text/html": "<div>\n<style scoped>\n    .dataframe tbody tr th:only-of-type {\n        vertical-align: middle;\n    }\n\n    .dataframe tbody tr th {\n        vertical-align: top;\n    }\n\n    .dataframe thead th {\n        text-align: right;\n    }\n</style>\n<table border=\"1\" class=\"dataframe\">\n  <thead>\n    <tr style=\"text-align: right;\">\n      <th></th>\n      <th>Manufacturer</th>\n      <th>Location</th>\n      <th>Address</th>\n      <th>City</th>\n      <th>Lat</th>\n      <th>Lon</th>\n    </tr>\n  </thead>\n  <tbody>\n    <tr>\n      <th>0</th>\n      <td>Pfizer_BioNTech</td>\n      <td>The Little Clinic-Fry's</td>\n      <td>9039 W Olive Ave, Peoria, AZ 85345</td>\n      <td>Peoria</td>\n      <td>33.566</td>\n      <td>-112.253</td>\n    </tr>\n    <tr>\n      <th>1</th>\n      <td>Pfizer; J_J</td>\n      <td>Mountain Park Health Center - Baseline Clinic</td>\n      <td>635 E Baseline Rd, Phoenix, AZ 85042</td>\n      <td>Phoenix</td>\n      <td>33.3767</td>\n      <td>-112.068</td>\n    </tr>\n    <tr>\n      <th>2</th>\n      <td>Moderna,​​​​Pfizer_BioNTech</td>\n      <td>CVS/Pharmacy #00193</td>\n      <td>4990 S Arizona Ave, Chandler, AZ 85248</td>\n      <td>Chandler</td>\n      <td>33.2337</td>\n      <td>-111.842</td>\n    </tr>\n    <tr>\n      <th>3</th>\n      <td>Moderna,​​​​Pfizer_BioNTech</td>\n      <td>CVS/Pharmacy #03500</td>\n      <td>1625 N 44th St, Phoenix, AZ 85008</td>\n      <td>Phoenix</td>\n      <td>33.4665</td>\n      <td>-111.987</td>\n    </tr>\n    <tr>\n      <th>4</th>\n      <td>Moderna,​​​​Pfizer_BioNTech</td>\n      <td>CVS/Pharmacy #03749</td>\n      <td>2840 N Dysart Rd, Goodyear, AZ 85395</td>\n      <td>Goodyear</td>\n      <td>33.4782</td>\n      <td>-112.342</td>\n    </tr>\n    <tr>\n      <th>...</th>\n      <td>...</td>\n      <td>...</td>\n      <td>...</td>\n      <td>...</td>\n      <td>...</td>\n      <td>...</td>\n    </tr>\n    <tr>\n      <th>364</th>\n      <td>​​​​Pfizer_BioNTech</td>\n      <td>Walgreens #4228</td>\n      <td>5125 W Northern Ave, Glendale, AZ 85301</td>\n      <td>Glendale</td>\n      <td>33.5525</td>\n      <td>-112.17</td>\n    </tr>\n    <tr>\n      <th>365</th>\n      <td>​​​​Pfizer_BioNTech</td>\n      <td>Walgreens #4909</td>\n      <td>2921 N 83rd Ave, Phoenix, AZ 85033</td>\n      <td>Phoenix</td>\n      <td>33.4808</td>\n      <td>-112.237</td>\n    </tr>\n    <tr>\n      <th>366</th>\n      <td>​​​​Pfizer_BioNTech</td>\n      <td>Walgreens #5504</td>\n      <td>4249 W Glendale Ave, Phoenix, AZ 85051</td>\n      <td>Phoenix</td>\n      <td>33.5379</td>\n      <td>-112.151</td>\n    </tr>\n    <tr>\n      <th>367</th>\n      <td>​​​​Pfizer_BioNTech</td>\n      <td>Walgreens #6063</td>\n      <td>1825 W Bethany Home Rd, Phoenix, AZ 85015</td>\n      <td>Phoenix</td>\n      <td>33.5235</td>\n      <td>-112.099</td>\n    </tr>\n    <tr>\n      <th>368</th>\n      <td>​​​​Pfizer_BioNTech</td>\n      <td>Walgreens #9057</td>\n      <td>18433 N 19th Ave, Phoenix, AZ 85023</td>\n      <td>Phoenix</td>\n      <td>33.6538</td>\n      <td>-112.099</td>\n    </tr>\n  </tbody>\n</table>\n<p>369 rows × 6 columns</p>\n</div>"
     },
     "metadata": {},
     "execution_count": 9
    }
   ],
   "source": [
    "# Print DataFrame\n",
    "VaccineLocation_df"
   ]
  },
  {
   "cell_type": "code",
   "execution_count": 43,
   "metadata": {},
   "outputs": [
    {
     "output_type": "execute_result",
     "data": {
      "text/plain": [
       "0      1534.0\n",
       "1       969.0\n",
       "2      3272.0\n",
       "3      2424.0\n",
       "4      9079.0\n",
       "        ...  \n",
       "397     137.0\n",
       "399       0.0\n",
       "402       5.0\n",
       "404       0.0\n",
       "406       0.0\n",
       "Name: ConfirmedCaseCount, Length: 377, dtype: float64"
      ]
     },
     "metadata": {},
     "execution_count": 43
    }
   ],
   "source": []
  },
  {
   "cell_type": "code",
   "execution_count": 56,
   "metadata": {},
   "outputs": [
    {
     "output_type": "display_data",
     "data": {
      "text/plain": "Figure(layout=FigureLayout(height='420px'))",
      "application/vnd.jupyter.widget-view+json": {
       "version_major": 2,
       "version_minor": 0,
       "model_id": "23498ef3d09641a8b9342bd6b68d043a"
      }
     },
     "metadata": {}
    }
   ],
   "source": [
    "# Create a Vaccine Heat Map\n",
    "fig = gmaps.figure()\n",
    "\n",
    "Case_Layer = gmaps.WeightedHeatmap(locations=Final_df[['Lat','Lon']], weights=Final_df['ConfirmedCaseCount'],\n",
    "                                 dissipating=False, max_intensity=40000, \n",
    "                                 point_radius = .1)\n",
    "\n",
    "fig.add_layer(Case_Layer)\n",
    "\n",
    "fig"
   ]
  },
  {
   "cell_type": "code",
   "execution_count": 61,
   "metadata": {},
   "outputs": [
    {
     "output_type": "display_data",
     "data": {
      "text/plain": "Figure(layout=FigureLayout(height='420px'))",
      "application/vnd.jupyter.widget-view+json": {
       "version_major": 2,
       "version_minor": 0,
       "model_id": "f1c4c9555cc240ed8b303417f781add2"
      }
     },
     "metadata": {}
    }
   ],
   "source": [
    "# Create a Marker Layer for Maricopa County Vaccination Sites\n",
    "Vaccination_Layer = gmaps.symbol_layer(\n",
    "    locations=VaccineLocation_df[['Lat','Lon']], fill_color='rgba(0, 150, 0, 0.4)', \n",
    "    stroke_color='rgba(0, 0, 150, 0.4)', scale=2)\n",
    "\n",
    "fig = gmaps.figure()\n",
    "fig.add_layer(Vaccination_Layer)\n",
    "fig.add_layer(Case_Layer)\n",
    "\n",
    "fig    \n"
   ]
  },
  {
   "cell_type": "code",
   "execution_count": null,
   "metadata": {},
   "outputs": [],
   "source": []
  }
 ]
}